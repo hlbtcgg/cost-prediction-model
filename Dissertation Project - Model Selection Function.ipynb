{
 "cells": [
  {
   "cell_type": "markdown",
   "metadata": {},
   "source": [
    "# 2. Dataset Description"
   ]
  },
  {
   "cell_type": "code",
   "execution_count": 1,
   "metadata": {},
   "outputs": [],
   "source": [
    "# Import necessary libraries and modules\n",
    "import pandas as pd\n",
    "import numpy as np\n",
    "import matplotlib.pyplot as plt\n",
    "import seaborn as sns\n",
    "import pickle\n",
    "import matplotlib.pyplot as plt\n",
    "from IPython.core.interactiveshell import InteractiveShell\n",
    "from sklearn.model_selection import cross_val_score\n",
    "from sklearn.linear_model import LinearRegression\n",
    "from sklearn.model_selection import train_test_split\n",
    "from sklearn.linear_model import Lasso\n",
    "from sklearn.linear_model import Ridge\n",
    "from sklearn.preprocessing import LabelBinarizer\n",
    "from sklearn.metrics import mean_squared_error\n",
    "from sklearn.neighbors import KNeighborsClassifier\n",
    "from sklearn.metrics import accuracy_score\n",
    "from sklearn.ensemble import RandomForestRegressor\n",
    "from sklearn.model_selection import ParameterGrid\n",
    "from matplotlib.pyplot import figure\n",
    "from sklearn.preprocessing import LabelEncoder\n",
    "from sklearn.preprocessing import OneHotEncoder\n",
    "from sklearn.ensemble import GradientBoostingRegressor\n",
    "InteractiveShell.ast_node_interactivity = \"all\"\n",
    "from sklearn.metrics import mean_absolute_error"
   ]
  },
  {
   "cell_type": "code",
   "execution_count": 6,
   "metadata": {},
   "outputs": [],
   "source": [
    "# Load Data\n",
    "df = pd.read_csv('Cost Prediction - Litigation.csv')"
   ]
  },
  {
   "cell_type": "code",
   "execution_count": 26,
   "metadata": {},
   "outputs": [],
   "source": [
    "# Build function to implement models.\n",
    "def accuracy(TP,df):\n",
    "    #Creating a dictionary recording all the postions from EMPL_UNO and POSITIONS\n",
    "    df_pos = dict(list(zip(df.EMPL_UNO.astype(str), df.POSITION)))\n",
    "    df = df.replace(' ', np.nan)\n",
    "    df = df.replace(' .', np.nan)\n",
    "    #import pickle files\n",
    "    objects = []\n",
    "    with (open(\"C://python working//Dissertation Project//pos_dict.pkl\", \"rb\")) as openfile:\n",
    "        while True:\n",
    "            try:\n",
    "                objects.append(pickle.load(openfile))\n",
    "            except EOFError:\n",
    "                break\n",
    "\n",
    "    with (open(\"C://python working//Dissertation Project//action_dict_updated.pkl\", \"rb\")) as openfile:\n",
    "        while True:\n",
    "            try:\n",
    "                objects.append(pickle.load(openfile))\n",
    "            except EOFError:\n",
    "                break\n",
    "\n",
    "    with (open(\"C://python working//Dissertation Project//task_dict_updated.pkl\", \"rb\")) as openfile:\n",
    "        while True:\n",
    "            try:\n",
    "                objects.append(pickle.load(openfile))\n",
    "            except EOFError:\n",
    "                break\n",
    "\n",
    "    with (open(\"C://python working//Dissertation Project//task_phase.pkl\", \"rb\")) as openfile:\n",
    "        while True:\n",
    "            try:\n",
    "                objects.append(pickle.load(openfile))\n",
    "            except EOFError:\n",
    "                break\n",
    "    # Mapped POSITION values from pickle files\n",
    "    df.replace({'POSITION': objects[0]}, inplace = True)\n",
    "    # Mapped ACTION_DESC values from pickle files\n",
    "    df.replace({'ACTION_DESC': objects[1]}, inplace = True)\n",
    "    # Mapped ACTION_DESC values from pickle files\n",
    "    df.replace({'PHASE_DESC': objects[2]}, inplace = True)\n",
    "    # Mapped ACTION_DESC values from pickle files\n",
    "    df.replace({'TASK_DESC': objects[3]}, inplace = True)\n",
    "    # Replace all the NaN values in PHASE_DESC and TASK_DESC by Missing values\n",
    "    df['PHASE_DESC'].fillna('Missing', inplace=True)\n",
    "    df['TASK_DESC'].fillna('Missing', inplace=True)\n",
    "    #Creating main datatable according to unique ID number\n",
    "    df_main = pd.DataFrame(df['MATTER_UNO'].unique())\n",
    "    #Rename column\n",
    "    df_main.rename(columns={0: 'MATTER_UNO'}, inplace = True)\n",
    "    # Creating TOTAL_COST column\n",
    "    df_cost = df[['MATTER_UNO','BILLED_AMT']].groupby(['MATTER_UNO']).sum().rename(columns={'BILLED_AMT': 'TOTAL_AMT'})\n",
    "    # #Total cost of each matter\n",
    "    # df_cost\n",
    "    #Merge total cost of each matter to main table\n",
    "    df_main = df_main.merge(df_cost, on='MATTER_UNO', how = 'left')\n",
    "    # We have 236 matters are 0 cost in total, which can be dropped.\n",
    "    df_main = df_main.drop(df_main[df_main.TOTAL_AMT==0].index).reset_index().drop(columns = 'index', axis=1)\n",
    "    # Create VALUE_RANGE variable and check the number of people in each range\n",
    "    df_main['VALUE_RANGE'] = pd.DataFrame(pd.qcut(df_main['TOTAL_AMT'], 4,labels = False))\n",
    "    # Check the total matter numbers in different VALUE_RANGE\n",
    "    df_val = df_main[['MATTER_UNO','VALUE_RANGE']].groupby('MATTER_UNO').mean().groupby('VALUE_RANGE').size()\n",
    "    # Creating DAYS_SPENT\n",
    "    df['DAYS_SPENT'] = pd.to_datetime(df['CLOSE_DATE']) - pd.to_datetime(df['OPEN_DATE'])\n",
    "    # get the earliest DATE among all the TRAN_DATE to each matter\n",
    "    df_start = df[['MATTER_UNO','TRAN_DATE']].groupby('MATTER_UNO').min().rename(columns={'TRAN_DATE':'FIRST_TRAN_DATE'})\n",
    "    df = df.merge(df_start, on='MATTER_UNO', how = 'left')\n",
    "    #Get the earliest date between FIRST_TRAN_DATE and OPEN_DATE as the START_DATE to eachmatter\n",
    "    df_start = df[['MATTER_UNO','TRAN_DATE', 'FIRST_TRAN_DATE']].groupby('MATTER_UNO').min()\n",
    "    # Merge the earliet TRAN_DATE AS START_DATE to the datetable\n",
    "    df_start=df_start.rename(columns={'TRAN_DATE' : 'START_DATE'})\n",
    "    df = df.merge(df_start, on='MATTER_UNO', how = 'left')\n",
    "    # Drop the Dates used to find the earliest start_date\n",
    "    df.drop(columns = ['FIRST_TRAN_DATE_x', 'FIRST_TRAN_DATE_y'], inplace = True)\n",
    "    # Creating new DAYS_SPENT, as the days spent should be the one from ealiest START_DATE to final CLOSE_DATE.\n",
    "    df['DAYS_SPENT'] = pd.to_datetime(df['CLOSE_DATE']) - pd.to_datetime(df['START_DATE'])\n",
    "    # Convert days to numerical number.\n",
    "    df['DAYS_SPENT'] = df['DAYS_SPENT'].astype('timedelta64[D]')\n",
    "    # Firstly, Merge DAYS_SPENT to each matter to main table\n",
    "    df_days = df[['MATTER_UNO','DAYS_SPENT']].groupby('MATTER_UNO').mean()\n",
    "    df_main = df_main.merge(df_days, on='MATTER_UNO', how = 'left')\n",
    "    # Define MAPE (Mean absolute percentage error) to check regression accuracy\n",
    "    def mean_absolute_percentage_error(y_true, y_pred): \n",
    "        y_true, y_pred = np.array(y_true), np.array(y_pred)\n",
    "        return np.mean(np.abs((y_true - y_pred) / y_true)) * 100\n",
    "    # Save all matters more than TP days as we would need time length periods more than TP days\n",
    "    df_main = df_main[df_main['DAYS_SPENT'] >= TP]\n",
    "    #Creating DAYS_TO_START feature to indicate days from START_DATE.\n",
    "    df['DAYS_TO_START'] = pd.to_datetime(df['TRAN_DATE']) - pd.to_datetime(df['START_DATE'])\n",
    "    # Convert days to numerical number.\n",
    "    df['DAYS_TO_START'] = df['DAYS_TO_START'].astype('timedelta64[D]')\n",
    "    #Drop all the othe DATE related columns as they will not be put into model\n",
    "    df.drop(columns = ['TRAN_DATE', 'POST_DATE', 'OPEN_DATE', 'CLOSE_DATE', 'START_DATE'], inplace = True)\n",
    "    #Save all the entries within time periods from the start of the matter TP\n",
    "    df = df[df['DAYS_TO_START'] <= TP]\n",
    "    #Creating PAST_ENGAGEMENT columns\n",
    "    df['PAST_ENGAGEMENT'] = df['CLNT_MATT_CODE'].astype(str).str[-1].astype(int)\n",
    "    df_past = df[['MATTER_UNO', 'PAST_ENGAGEMENT']].groupby('MATTER_UNO').mean()\n",
    "    #Merge PAST_ENGAGEMENT columns to main table\n",
    "    df_main = df_main.merge(df_past, on='MATTER_UNO', how = 'left')\n",
    "    #Creating NOW_ENGAGEMENT columns within time periods\n",
    "    df_now = pd.DataFrame(df[['MATTER_UNO','TIME_UNO']].groupby('MATTER_UNO').size()).rename(columns={0:'NOW_ENGAGEMENT'})\n",
    "    #Merge NOW_ENGAGEMENT columns to main table\n",
    "    df_main = df_main.merge(df_now, on='MATTER_UNO', how = 'left')\n",
    "    #Creating PRE_TIMES columns within time periods\n",
    "    df['PHASE_DESC'] = df['PHASE_DESC'].str.upper()\n",
    "    df_PT = pd.DataFrame(df[df['PHASE_DESC'].str.contains('PRE-ACTION')].groupby('MATTER_UNO')\n",
    "                         .size()).rename(columns = {0:'PRE_TIMES'})\n",
    "    #Merge PRE_TIMES columns to main table\n",
    "    df_main = df_main.merge(df_PT, on='MATTER_UNO', how = 'left')\n",
    "    #Fill NULL values with mean in PRE_TIMES columns\n",
    "    df_main['PRE_TIMES'].fillna(0, inplace=True)\n",
    "    #Creating PRE_COST columns\n",
    "    df_bill = df[['MATTER_UNO', 'TIME_UNO', 'BILLED_AMT']]\n",
    "    #Sum up all the BILLED_AMT wihtin time periods\n",
    "    df_bill = df_bill[['MATTER_UNO','BILLED_AMT']].groupby('MATTER_UNO').sum().rename(columns={'BILLED_AMT': 'PRE_COST'})\n",
    "    #Merge the PRE_COST to main table\n",
    "    df_main = df_main.merge(df_bill, on = 'MATTER_UNO', how = 'left')\n",
    "    #Creating NUM_PPL\n",
    "    #注意可能会有 collinarity 因为不同的position人数加起来就等于NUM_PPL\n",
    "    df_num = pd.DataFrame(df[['MATTER_UNO','EMPL_UNO']].groupby('MATTER_UNO')['EMPL_UNO'].nunique())\n",
    "    df_num.rename(columns={'EMPL_UNO' : 'NUM_PPL'}, inplace = True)\n",
    "\n",
    "    #Merge to main table\n",
    "    df_main = df_main.merge(df_num, on='MATTER_UNO', how ='left')\n",
    "    #Merge MATT_DEPT_NAME to main table\n",
    "    df_dept = df[['MATTER_UNO', 'MATT_DEPT_NAME']]\n",
    "    #Drop dupliactes\n",
    "    df_dept.drop_duplicates(subset=None, keep='first', inplace=True)\n",
    "    #Merge into the main table\n",
    "    df_main = df_main.merge(df_dept, on = 'MATTER_UNO', how = 'left')\n",
    "    # One hot encoding MATT_DEPT_NAME column\n",
    "    lb = LabelBinarizer()\n",
    "    # Join the encoded df\n",
    "    df_main = df_main.join(pd.DataFrame(lb.fit_transform(df_main['MATT_DEPT_NAME']),\n",
    "                              columns=lb.classes_, \n",
    "                              index=df_main.index))\n",
    "    # Drop one MATT_DEPT_NAME Column\n",
    "    df_main.drop(columns = 'MATT_DEPT_NAME', inplace = True)\n",
    "    # Creating features about all the different positions responsible for the matter within time periods. TP\n",
    "    df_po = pd.DataFrame(df[['MATTER_UNO','EMPL_UNO']].groupby('MATTER_UNO')['EMPL_UNO'].unique()).reset_index()\n",
    "    #Creating vector of different positions for each matter\n",
    "    df_test = pd.DataFrame(df_po.EMPL_UNO.tolist(), index = df_po.MATTER_UNO)\n",
    "    df_test.reset_index(inplace=True)\n",
    "    df_test = df_test.fillna(0).applymap(int).applymap(str)\n",
    "    # Convert unique EMPL_UNO of each matter to positons.\n",
    "    df_test.replace({0: df_pos, 1: df_pos, 2: df_pos, 3: df_pos, 4: df_pos, 5: df_pos, 6: df_pos, 7: df_pos,\n",
    "                     8: df_pos, 9: df_pos, 10: df_pos, 11: df_pos, 12: df_pos, 13: df_pos, 14: df_pos, 15: df_pos,\n",
    "                     16: df_pos, 17: df_pos, 18: df_pos, 19: df_pos, 20: df_pos, 21: df_pos, 22: df_pos, 23: df_pos,\n",
    "                     24: df_pos,  25: df_pos}\n",
    "                   , inplace = True)\n",
    "    # Creating position categories according to the meeting with supervisor\n",
    "    Others = [ 'PSL', 'Costs',   'Compliance', 'Others (not billing)', 'Outdoor clerk', 'Consultant', 'Knowledge Services', 'EA & Projects Advisor', 'Secondee', 'Knowledge Analyst', 'eDisclosure', 'nan',  'Cyber', 'Senior Knowledge Analyst',   'Business Development Manager','Business Insight Manager',   'Senior Data Protection Specialist',  'Costs Lawyer',  'Consultant', 'Sports Lawyer',  'Knowledge Manager', 'Trainee Solicitor 2nd year', 'Trainee Solicitor (2nd yr)',  'Legal Executive', 'Knowledge Solutions Analyst', 'Project Manager', 'Legal Administrator',  'File Closing Support', 'Professional Support Lawyer', 'E-Disclosure Project Manager', 'Barrister', 'eDisclosure Project Manager',  'Cyber Inteligence Analyst',  'Cyber Intelligence Analyst', 'Cyber Innovation Architect',  'Cyber Manager',  'Trainee 2nd year', 'Cyber Developer', 'Junior Solutions Engineer', 'Intern', 'Temp', 'Senior Risk & Compliance Manager']\n",
    "    Trainee = ['Trainee 2nd Year', 'Trainee 1st Year', 'Junior Solutions Engineer', 'Intern',  'Trainee Solicitor (2nd Year)',  'Trainee (Secondment)', 'Trainee']\n",
    "    ParalegalPPA = ['PPA', 'Paralegal', 'Trade Mark Paralegal', 'Paralegal\\\\PA', 'Legal Assistant',  'Assistant Solicitor', 'Paralegal PA', 'Personal Assistant', 'Legal assistant', 'Paralegal/Personal Assistant',  'PA', 'Trade Mark Attorney',  'Litigation Recoveries Assistant']\n",
    "    Associate = ['Indian Qualified Associate',  'Associate',  'In house compliance associate', 'Senior Associate',  'Associate (also BVI qualified)', 'Associate (Member of the New York Bar)', 'Associate (Barrister)', 'Associate, Chartered Trade Mark Attorney', 'Indian Qualified Associate']\n",
    "    ManagingAssociate = ['Managing Associate, PSL', 'Managing Associate', 'Managing Associate (also BVI qualified)', 'Professional Support Lawyer - Managing Associate', 'Managing Associate, Professional Support Lawyer', 'Managing Associate (Russian qualified lawyer)', 'Managing Associate (Admitted at the Austrian Bar)']\n",
    "    LegalDirector = ['Legal Director, PSL', 'Legal Director', 'Legal Director (Barrister)',   'Head of e Discovery',  'Head of Employment Policy & Engagement', 'Head of Legal Operations', 'China Desk Lead',  'Managing Associate (Russian qualified lawyer)',  'Professional Support Lawyer - Legal Director', 'Head of Legal Operations', 'Cyber Consulting Director', 'Cyber Intelligence Director', 'Head of Employment Policy & Engagement']\n",
    "    Partner = ['Partner', 'Senior Equity Partner', 'Equity Partner', 'Partner (Junior)', 'General Counsel, Partner and COLP', 'Deputy Chairman', 'Senoir Equity Partner']\n",
    "    # Replace all the positions with dictionary above\n",
    "    df_test.replace(dict.fromkeys(Others, 'Others'), inplace = True)\n",
    "    df_test.replace(dict.fromkeys(Trainee, 'Trainee'), inplace = True)\n",
    "    df_test.replace(dict.fromkeys(ParalegalPPA, 'ParalegalPPA'), inplace = True)\n",
    "    df_test.replace(dict.fromkeys(Associate, 'Associate'), inplace = True)\n",
    "    df_test.replace(dict.fromkeys(ManagingAssociate, 'ManagingAssociate'), inplace = True)\n",
    "    df_test.replace(dict.fromkeys(LegalDirector, 'LegalDirector'), inplace = True)\n",
    "    df_test.replace(dict.fromkeys(Partner, 'Partner'), inplace = True)\n",
    "    # Build up table to calculate all the positions in each matter\n",
    "    df_pnum = df_test.apply(pd.Series.value_counts, axis=1)[['Others', 'Trainee', 'ParalegalPPA', \n",
    "                                                   'Associate','ManagingAssociate', 'LegalDirector', 'Partner']].fillna(0)\n",
    "    # Join the table above to get the positions for each matter\n",
    "    df_po_num = df_test.join(df_pnum)\n",
    "    df_po_num = df_po_num[['MATTER_UNO', 'Others','Trainee','ParalegalPPA','Associate','ManagingAssociate','LegalDirector','Partner']]\n",
    "    df_po_num = df_po_num.applymap(int)\n",
    "    # Merge back to the main table\n",
    "    df_main = df_main.merge(df_po_num, on = 'MATTER_UNO', how = 'left')\n",
    "    # Drop all the matters from support department according to the communication with supervisor\n",
    "    df_main.drop(df_main[df_main['Support']==1].index, inplace= True)\n",
    "    # Main table for regression as we would need total amount as target.\n",
    "    df_main_reg = df_main.drop(['MATTER_UNO','VALUE_RANGE','DAYS_SPENT'], axis=1)\n",
    "    #Creat arrays for the features and the response variable\n",
    "    y = df_main_reg['TOTAL_AMT'].values\n",
    "    X = df_main_reg.drop('TOTAL_AMT', axis = 1).values\n",
    "    # Create training and test sets\n",
    "    X_train, X_test, y_train, y_test = train_test_split(X, y, test_size = 0.2, random_state = 42)\n",
    "    # Create the regressor: reg_all\n",
    "    reg = LinearRegression()\n",
    "    # Fit the regressor to the training data\n",
    "    reg.fit(X_train, y_train)\n",
    "    # Predict on the test data: y_pred\n",
    "    y_pred = reg.predict(X_test)\n",
    "    # Compute and print R^2 and RMSE\n",
    "    rmse = np.sqrt(mean_squared_error(y_test, y_pred))\n",
    "    print(f'For regression, {TP} days Root Mean Squared Error: {rmse:.2f}')\n",
    "    # Compute and print R^2 and RMSE\n",
    "    mape = mean_absolute_percentage_error(y_test, y_pred)\n",
    "    print(f'For regression, {TP} days Mean Absolute Percentage Error is: {mape:.2f}%')\n",
    "    # Classification\n",
    "    df_main_cla = df_main.drop(['MATTER_UNO','TOTAL_AMT','DAYS_SPENT'], axis=1)\n",
    "    # One Hot encoding the Value_RANGE\n",
    "    encoder = LabelEncoder()\n",
    "    cat = df_main_cla['VALUE_RANGE']\n",
    "    cat_encoded = encoder.fit_transform(cat)\n",
    "    encoder = OneHotEncoder()\n",
    "    df_main_1hot = encoder.fit_transform(cat_encoded.reshape(-1,1))\n",
    "    df_main_1hot = pd.DataFrame(df_main_1hot.toarray()).applymap(int)\n",
    "    #Creat arrays for the features and the response variable\n",
    "    y = df_main_cla['VALUE_RANGE'].values\n",
    "    X = df_main_cla.drop('VALUE_RANGE', axis = 1).values\n",
    "    # Create new training and test sets\n",
    "    X_train, X_test, y_train, y_test = train_test_split(X, y, test_size = 0.2, random_state = 42)\n",
    "    # Create the classifier: knn\n",
    "    knn = KNeighborsClassifier(n_neighbors=7)\n",
    "    # #Using Cross_validation in scikit-learn\n",
    "    cv_results = cross_val_score(knn, X, y, cv =5)\n",
    "    print(f\"For {TP} days, KNN Accuracy of Model with Cross Validation is {np.mean(cv_results) * 100:.2f}%\")\n",
    "    # Create the random forest model and fit to the training data\n",
    "    rfr = RandomForestRegressor(n_estimators=200)\n",
    "    rfr.fit(X_train, y_train)\n",
    "    # Look at the R^2 scores on train and test\n",
    "    print(f\"For {TP} days, Random Forest Accuracy of Model with Cross Validation is {rfr.score(X_test, y_test) * 100:.2f}%\")\n",
    "    #Gradient Boosting Model\n",
    "    gbrt = GradientBoostingRegressor(max_depth=2, n_estimators=120)\n",
    "    cv_results = cross_val_score(gbrt, X, y, cv =5)\n",
    "    print(f\"For {TP} days, Gradient Boosting Accuracy of Model with Cross Validation is {np.mean(cv_results) * 100:.2f}%\")\n",
    "    from sklearn.naive_bayes import GaussianNB\n",
    "    gnb = GaussianNB()\n",
    "    cv_results = cross_val_score(gnb, X, y, cv =5)\n",
    "    print(f\"For {TP} days, GaussianNB Accuracy of Model with Cross Validation is {np.mean(cv_results) * 100:.2f}%\")"
   ]
  },
  {
   "cell_type": "code",
   "execution_count": 27,
   "metadata": {
    "scrolled": true
   },
   "outputs": [
    {
     "name": "stderr",
     "output_type": "stream",
     "text": [
      "<ipython-input-26-a6f82740e750>:128: SettingWithCopyWarning: \n",
      "A value is trying to be set on a copy of a slice from a DataFrame\n",
      "\n",
      "See the caveats in the documentation: https://pandas.pydata.org/pandas-docs/stable/user_guide/indexing.html#returning-a-view-versus-a-copy\n",
      "  df_dept.drop_duplicates(subset=None, keep='first', inplace=True)\n"
     ]
    },
    {
     "name": "stdout",
     "output_type": "stream",
     "text": [
      "For regression, 30 days Root Mean Squared Error: 165127.33\n",
      "For regression, 30 days Mean Absolute Percentage Error is: 640.25%\n",
      "For 30 days, KNN Accuracy of Model with Cross Validation is 50.72%\n",
      "For 30 days, Random Forest Accuracy of Model with Cross Validation is 45.79%\n",
      "For 30 days, Gradient Boosting Accuracy of Model with Cross Validation is 35.36%\n",
      "For 30 days, GaussianNB Accuracy of Model with Cross Validation is 52.81%\n"
     ]
    },
    {
     "name": "stderr",
     "output_type": "stream",
     "text": [
      "<ipython-input-26-a6f82740e750>:128: SettingWithCopyWarning: \n",
      "A value is trying to be set on a copy of a slice from a DataFrame\n",
      "\n",
      "See the caveats in the documentation: https://pandas.pydata.org/pandas-docs/stable/user_guide/indexing.html#returning-a-view-versus-a-copy\n",
      "  df_dept.drop_duplicates(subset=None, keep='first', inplace=True)\n"
     ]
    },
    {
     "name": "stdout",
     "output_type": "stream",
     "text": [
      "For regression, 31 days Root Mean Squared Error: 164935.48\n",
      "For regression, 31 days Mean Absolute Percentage Error is: 689.09%\n",
      "For 31 days, KNN Accuracy of Model with Cross Validation is 50.69%\n",
      "For 31 days, Random Forest Accuracy of Model with Cross Validation is 45.38%\n",
      "For 31 days, Gradient Boosting Accuracy of Model with Cross Validation is 36.78%\n",
      "For 31 days, GaussianNB Accuracy of Model with Cross Validation is 53.21%\n"
     ]
    },
    {
     "name": "stderr",
     "output_type": "stream",
     "text": [
      "<ipython-input-26-a6f82740e750>:128: SettingWithCopyWarning: \n",
      "A value is trying to be set on a copy of a slice from a DataFrame\n",
      "\n",
      "See the caveats in the documentation: https://pandas.pydata.org/pandas-docs/stable/user_guide/indexing.html#returning-a-view-versus-a-copy\n",
      "  df_dept.drop_duplicates(subset=None, keep='first', inplace=True)\n"
     ]
    },
    {
     "name": "stdout",
     "output_type": "stream",
     "text": [
      "For regression, 32 days Root Mean Squared Error: 164934.94\n",
      "For regression, 32 days Mean Absolute Percentage Error is: 688.78%\n",
      "For 32 days, KNN Accuracy of Model with Cross Validation is 51.84%\n",
      "For 32 days, Random Forest Accuracy of Model with Cross Validation is 46.96%\n",
      "For 32 days, Gradient Boosting Accuracy of Model with Cross Validation is 37.43%\n",
      "For 32 days, GaussianNB Accuracy of Model with Cross Validation is 53.50%\n"
     ]
    },
    {
     "name": "stderr",
     "output_type": "stream",
     "text": [
      "<ipython-input-26-a6f82740e750>:128: SettingWithCopyWarning: \n",
      "A value is trying to be set on a copy of a slice from a DataFrame\n",
      "\n",
      "See the caveats in the documentation: https://pandas.pydata.org/pandas-docs/stable/user_guide/indexing.html#returning-a-view-versus-a-copy\n",
      "  df_dept.drop_duplicates(subset=None, keep='first', inplace=True)\n"
     ]
    },
    {
     "name": "stdout",
     "output_type": "stream",
     "text": [
      "For regression, 33 days Root Mean Squared Error: 164403.56\n",
      "For regression, 33 days Mean Absolute Percentage Error is: 684.37%\n",
      "For 33 days, KNN Accuracy of Model with Cross Validation is 52.35%\n",
      "For 33 days, Random Forest Accuracy of Model with Cross Validation is 47.81%\n",
      "For 33 days, Gradient Boosting Accuracy of Model with Cross Validation is 38.64%\n",
      "For 33 days, GaussianNB Accuracy of Model with Cross Validation is 54.15%\n"
     ]
    },
    {
     "name": "stderr",
     "output_type": "stream",
     "text": [
      "<ipython-input-26-a6f82740e750>:128: SettingWithCopyWarning: \n",
      "A value is trying to be set on a copy of a slice from a DataFrame\n",
      "\n",
      "See the caveats in the documentation: https://pandas.pydata.org/pandas-docs/stable/user_guide/indexing.html#returning-a-view-versus-a-copy\n",
      "  df_dept.drop_duplicates(subset=None, keep='first', inplace=True)\n"
     ]
    },
    {
     "name": "stdout",
     "output_type": "stream",
     "text": [
      "For regression, 34 days Root Mean Squared Error: 153751.17\n",
      "For regression, 34 days Mean Absolute Percentage Error is: 608.27%\n",
      "For 34 days, KNN Accuracy of Model with Cross Validation is 53.11%\n",
      "For 34 days, Random Forest Accuracy of Model with Cross Validation is 42.89%\n",
      "For 34 days, Gradient Boosting Accuracy of Model with Cross Validation is 38.96%\n",
      "For 34 days, GaussianNB Accuracy of Model with Cross Validation is 55.57%\n"
     ]
    },
    {
     "name": "stderr",
     "output_type": "stream",
     "text": [
      "<ipython-input-26-a6f82740e750>:128: SettingWithCopyWarning: \n",
      "A value is trying to be set on a copy of a slice from a DataFrame\n",
      "\n",
      "See the caveats in the documentation: https://pandas.pydata.org/pandas-docs/stable/user_guide/indexing.html#returning-a-view-versus-a-copy\n",
      "  df_dept.drop_duplicates(subset=None, keep='first', inplace=True)\n"
     ]
    },
    {
     "name": "stdout",
     "output_type": "stream",
     "text": [
      "For regression, 35 days Root Mean Squared Error: 153640.06\n",
      "For regression, 35 days Mean Absolute Percentage Error is: 598.75%\n",
      "For 35 days, KNN Accuracy of Model with Cross Validation is 54.77%\n",
      "For 35 days, Random Forest Accuracy of Model with Cross Validation is 46.72%\n",
      "For 35 days, Gradient Boosting Accuracy of Model with Cross Validation is 39.26%\n",
      "For 35 days, GaussianNB Accuracy of Model with Cross Validation is 55.42%\n"
     ]
    },
    {
     "name": "stderr",
     "output_type": "stream",
     "text": [
      "<ipython-input-26-a6f82740e750>:128: SettingWithCopyWarning: \n",
      "A value is trying to be set on a copy of a slice from a DataFrame\n",
      "\n",
      "See the caveats in the documentation: https://pandas.pydata.org/pandas-docs/stable/user_guide/indexing.html#returning-a-view-versus-a-copy\n",
      "  df_dept.drop_duplicates(subset=None, keep='first', inplace=True)\n"
     ]
    },
    {
     "name": "stdout",
     "output_type": "stream",
     "text": [
      "For regression, 36 days Root Mean Squared Error: 152303.16\n",
      "For regression, 36 days Mean Absolute Percentage Error is: 594.72%\n",
      "For 36 days, KNN Accuracy of Model with Cross Validation is 55.49%\n",
      "For 36 days, Random Forest Accuracy of Model with Cross Validation is 45.46%\n",
      "For 36 days, Gradient Boosting Accuracy of Model with Cross Validation is 39.72%\n",
      "For 36 days, GaussianNB Accuracy of Model with Cross Validation is 56.00%\n"
     ]
    },
    {
     "name": "stderr",
     "output_type": "stream",
     "text": [
      "<ipython-input-26-a6f82740e750>:128: SettingWithCopyWarning: \n",
      "A value is trying to be set on a copy of a slice from a DataFrame\n",
      "\n",
      "See the caveats in the documentation: https://pandas.pydata.org/pandas-docs/stable/user_guide/indexing.html#returning-a-view-versus-a-copy\n",
      "  df_dept.drop_duplicates(subset=None, keep='first', inplace=True)\n"
     ]
    },
    {
     "name": "stdout",
     "output_type": "stream",
     "text": [
      "For regression, 37 days Root Mean Squared Error: 152611.17\n",
      "For regression, 37 days Mean Absolute Percentage Error is: 583.75%\n",
      "For 37 days, KNN Accuracy of Model with Cross Validation is 55.71%\n",
      "For 37 days, Random Forest Accuracy of Model with Cross Validation is 45.35%\n",
      "For 37 days, Gradient Boosting Accuracy of Model with Cross Validation is 41.07%\n",
      "For 37 days, GaussianNB Accuracy of Model with Cross Validation is 56.00%\n"
     ]
    },
    {
     "name": "stderr",
     "output_type": "stream",
     "text": [
      "<ipython-input-26-a6f82740e750>:128: SettingWithCopyWarning: \n",
      "A value is trying to be set on a copy of a slice from a DataFrame\n",
      "\n",
      "See the caveats in the documentation: https://pandas.pydata.org/pandas-docs/stable/user_guide/indexing.html#returning-a-view-versus-a-copy\n",
      "  df_dept.drop_duplicates(subset=None, keep='first', inplace=True)\n"
     ]
    },
    {
     "name": "stdout",
     "output_type": "stream",
     "text": [
      "For regression, 38 days Root Mean Squared Error: 146082.16\n",
      "For regression, 38 days Mean Absolute Percentage Error is: 626.62%\n",
      "For 38 days, KNN Accuracy of Model with Cross Validation is 54.81%\n",
      "For 38 days, Random Forest Accuracy of Model with Cross Validation is 43.68%\n",
      "For 38 days, Gradient Boosting Accuracy of Model with Cross Validation is 42.04%\n",
      "For 38 days, GaussianNB Accuracy of Model with Cross Validation is 56.11%\n"
     ]
    },
    {
     "name": "stderr",
     "output_type": "stream",
     "text": [
      "<ipython-input-26-a6f82740e750>:128: SettingWithCopyWarning: \n",
      "A value is trying to be set on a copy of a slice from a DataFrame\n",
      "\n",
      "See the caveats in the documentation: https://pandas.pydata.org/pandas-docs/stable/user_guide/indexing.html#returning-a-view-versus-a-copy\n",
      "  df_dept.drop_duplicates(subset=None, keep='first', inplace=True)\n"
     ]
    },
    {
     "name": "stdout",
     "output_type": "stream",
     "text": [
      "For regression, 39 days Root Mean Squared Error: 145366.70\n",
      "For regression, 39 days Mean Absolute Percentage Error is: 608.86%\n",
      "For 39 days, KNN Accuracy of Model with Cross Validation is 55.60%\n",
      "For 39 days, Random Forest Accuracy of Model with Cross Validation is 44.64%\n",
      "For 39 days, Gradient Boosting Accuracy of Model with Cross Validation is 42.58%\n",
      "For 39 days, GaussianNB Accuracy of Model with Cross Validation is 56.98%\n"
     ]
    },
    {
     "name": "stderr",
     "output_type": "stream",
     "text": [
      "<ipython-input-26-a6f82740e750>:128: SettingWithCopyWarning: \n",
      "A value is trying to be set on a copy of a slice from a DataFrame\n",
      "\n",
      "See the caveats in the documentation: https://pandas.pydata.org/pandas-docs/stable/user_guide/indexing.html#returning-a-view-versus-a-copy\n",
      "  df_dept.drop_duplicates(subset=None, keep='first', inplace=True)\n"
     ]
    },
    {
     "name": "stdout",
     "output_type": "stream",
     "text": [
      "For regression, 40 days Root Mean Squared Error: 144436.02\n",
      "For regression, 40 days Mean Absolute Percentage Error is: 599.53%\n",
      "For 40 days, KNN Accuracy of Model with Cross Validation is 55.60%\n",
      "For 40 days, Random Forest Accuracy of Model with Cross Validation is 45.26%\n",
      "For 40 days, Gradient Boosting Accuracy of Model with Cross Validation is 42.58%\n",
      "For 40 days, GaussianNB Accuracy of Model with Cross Validation is 57.20%\n"
     ]
    },
    {
     "name": "stderr",
     "output_type": "stream",
     "text": [
      "<ipython-input-26-a6f82740e750>:128: SettingWithCopyWarning: \n",
      "A value is trying to be set on a copy of a slice from a DataFrame\n",
      "\n",
      "See the caveats in the documentation: https://pandas.pydata.org/pandas-docs/stable/user_guide/indexing.html#returning-a-view-versus-a-copy\n",
      "  df_dept.drop_duplicates(subset=None, keep='first', inplace=True)\n"
     ]
    },
    {
     "name": "stdout",
     "output_type": "stream",
     "text": [
      "For regression, 41 days Root Mean Squared Error: 143418.50\n",
      "For regression, 41 days Mean Absolute Percentage Error is: 568.21%\n",
      "For 41 days, KNN Accuracy of Model with Cross Validation is 56.33%\n",
      "For 41 days, Random Forest Accuracy of Model with Cross Validation is 45.92%\n",
      "For 41 days, Gradient Boosting Accuracy of Model with Cross Validation is 42.96%\n",
      "For 41 days, GaussianNB Accuracy of Model with Cross Validation is 57.34%\n"
     ]
    },
    {
     "name": "stderr",
     "output_type": "stream",
     "text": [
      "<ipython-input-26-a6f82740e750>:128: SettingWithCopyWarning: \n",
      "A value is trying to be set on a copy of a slice from a DataFrame\n",
      "\n",
      "See the caveats in the documentation: https://pandas.pydata.org/pandas-docs/stable/user_guide/indexing.html#returning-a-view-versus-a-copy\n",
      "  df_dept.drop_duplicates(subset=None, keep='first', inplace=True)\n"
     ]
    },
    {
     "name": "stdout",
     "output_type": "stream",
     "text": [
      "For regression, 42 days Root Mean Squared Error: 140771.94\n",
      "For regression, 42 days Mean Absolute Percentage Error is: 599.81%\n",
      "For 42 days, KNN Accuracy of Model with Cross Validation is 58.03%\n",
      "For 42 days, Random Forest Accuracy of Model with Cross Validation is 42.55%\n",
      "For 42 days, Gradient Boosting Accuracy of Model with Cross Validation is 43.51%\n",
      "For 42 days, GaussianNB Accuracy of Model with Cross Validation is 57.45%\n"
     ]
    },
    {
     "name": "stderr",
     "output_type": "stream",
     "text": [
      "<ipython-input-26-a6f82740e750>:128: SettingWithCopyWarning: \n",
      "A value is trying to be set on a copy of a slice from a DataFrame\n",
      "\n",
      "See the caveats in the documentation: https://pandas.pydata.org/pandas-docs/stable/user_guide/indexing.html#returning-a-view-versus-a-copy\n",
      "  df_dept.drop_duplicates(subset=None, keep='first', inplace=True)\n"
     ]
    },
    {
     "name": "stdout",
     "output_type": "stream",
     "text": [
      "For regression, 43 days Root Mean Squared Error: 140244.34\n",
      "For regression, 43 days Mean Absolute Percentage Error is: 593.24%\n",
      "For 43 days, KNN Accuracy of Model with Cross Validation is 58.54%\n",
      "For 43 days, Random Forest Accuracy of Model with Cross Validation is 42.97%\n",
      "For 43 days, Gradient Boosting Accuracy of Model with Cross Validation is 44.72%\n",
      "For 43 days, GaussianNB Accuracy of Model with Cross Validation is 58.10%\n"
     ]
    },
    {
     "name": "stderr",
     "output_type": "stream",
     "text": [
      "<ipython-input-26-a6f82740e750>:128: SettingWithCopyWarning: \n",
      "A value is trying to be set on a copy of a slice from a DataFrame\n",
      "\n",
      "See the caveats in the documentation: https://pandas.pydata.org/pandas-docs/stable/user_guide/indexing.html#returning-a-view-versus-a-copy\n",
      "  df_dept.drop_duplicates(subset=None, keep='first', inplace=True)\n"
     ]
    },
    {
     "name": "stdout",
     "output_type": "stream",
     "text": [
      "For regression, 44 days Root Mean Squared Error: 139908.93\n",
      "For regression, 44 days Mean Absolute Percentage Error is: 596.02%\n",
      "For 44 days, KNN Accuracy of Model with Cross Validation is 58.68%\n",
      "For 44 days, Random Forest Accuracy of Model with Cross Validation is 45.71%\n",
      "For 44 days, Gradient Boosting Accuracy of Model with Cross Validation is 44.89%\n",
      "For 44 days, GaussianNB Accuracy of Model with Cross Validation is 58.61%\n"
     ]
    },
    {
     "name": "stderr",
     "output_type": "stream",
     "text": [
      "<ipython-input-26-a6f82740e750>:128: SettingWithCopyWarning: \n",
      "A value is trying to be set on a copy of a slice from a DataFrame\n",
      "\n",
      "See the caveats in the documentation: https://pandas.pydata.org/pandas-docs/stable/user_guide/indexing.html#returning-a-view-versus-a-copy\n",
      "  df_dept.drop_duplicates(subset=None, keep='first', inplace=True)\n"
     ]
    },
    {
     "name": "stdout",
     "output_type": "stream",
     "text": [
      "For regression, 45 days Root Mean Squared Error: 140381.94\n",
      "For regression, 45 days Mean Absolute Percentage Error is: 495.02%\n",
      "For 45 days, KNN Accuracy of Model with Cross Validation is 58.80%\n",
      "For 45 days, Random Forest Accuracy of Model with Cross Validation is 45.22%\n",
      "For 45 days, Gradient Boosting Accuracy of Model with Cross Validation is 46.39%\n",
      "For 45 days, GaussianNB Accuracy of Model with Cross Validation is 58.51%\n"
     ]
    },
    {
     "name": "stderr",
     "output_type": "stream",
     "text": [
      "<ipython-input-26-a6f82740e750>:128: SettingWithCopyWarning: \n",
      "A value is trying to be set on a copy of a slice from a DataFrame\n",
      "\n",
      "See the caveats in the documentation: https://pandas.pydata.org/pandas-docs/stable/user_guide/indexing.html#returning-a-view-versus-a-copy\n",
      "  df_dept.drop_duplicates(subset=None, keep='first', inplace=True)\n"
     ]
    },
    {
     "name": "stdout",
     "output_type": "stream",
     "text": [
      "For regression, 46 days Root Mean Squared Error: 140965.44\n",
      "For regression, 46 days Mean Absolute Percentage Error is: 485.15%\n",
      "For 46 days, KNN Accuracy of Model with Cross Validation is 59.49%\n",
      "For 46 days, Random Forest Accuracy of Model with Cross Validation is 53.50%\n",
      "For 46 days, Gradient Boosting Accuracy of Model with Cross Validation is 47.51%\n",
      "For 46 days, GaussianNB Accuracy of Model with Cross Validation is 58.91%\n"
     ]
    },
    {
     "name": "stderr",
     "output_type": "stream",
     "text": [
      "<ipython-input-26-a6f82740e750>:128: SettingWithCopyWarning: \n",
      "A value is trying to be set on a copy of a slice from a DataFrame\n",
      "\n",
      "See the caveats in the documentation: https://pandas.pydata.org/pandas-docs/stable/user_guide/indexing.html#returning-a-view-versus-a-copy\n",
      "  df_dept.drop_duplicates(subset=None, keep='first', inplace=True)\n"
     ]
    },
    {
     "name": "stdout",
     "output_type": "stream",
     "text": [
      "For regression, 47 days Root Mean Squared Error: 140621.88\n",
      "For regression, 47 days Mean Absolute Percentage Error is: 489.63%\n",
      "For 47 days, KNN Accuracy of Model with Cross Validation is 59.78%\n",
      "For 47 days, Random Forest Accuracy of Model with Cross Validation is 53.15%\n",
      "For 47 days, Gradient Boosting Accuracy of Model with Cross Validation is 45.92%\n",
      "For 47 days, GaussianNB Accuracy of Model with Cross Validation is 59.35%\n"
     ]
    },
    {
     "name": "stderr",
     "output_type": "stream",
     "text": [
      "<ipython-input-26-a6f82740e750>:128: SettingWithCopyWarning: \n",
      "A value is trying to be set on a copy of a slice from a DataFrame\n",
      "\n",
      "See the caveats in the documentation: https://pandas.pydata.org/pandas-docs/stable/user_guide/indexing.html#returning-a-view-versus-a-copy\n",
      "  df_dept.drop_duplicates(subset=None, keep='first', inplace=True)\n"
     ]
    },
    {
     "name": "stdout",
     "output_type": "stream",
     "text": [
      "For regression, 48 days Root Mean Squared Error: 140602.50\n",
      "For regression, 48 days Mean Absolute Percentage Error is: 492.72%\n",
      "For 48 days, KNN Accuracy of Model with Cross Validation is 58.55%\n",
      "For 48 days, Random Forest Accuracy of Model with Cross Validation is 54.56%\n",
      "For 48 days, Gradient Boosting Accuracy of Model with Cross Validation is 46.08%\n",
      "For 48 days, GaussianNB Accuracy of Model with Cross Validation is 59.49%\n"
     ]
    },
    {
     "name": "stderr",
     "output_type": "stream",
     "text": [
      "<ipython-input-26-a6f82740e750>:128: SettingWithCopyWarning: \n",
      "A value is trying to be set on a copy of a slice from a DataFrame\n",
      "\n",
      "See the caveats in the documentation: https://pandas.pydata.org/pandas-docs/stable/user_guide/indexing.html#returning-a-view-versus-a-copy\n",
      "  df_dept.drop_duplicates(subset=None, keep='first', inplace=True)\n"
     ]
    },
    {
     "name": "stdout",
     "output_type": "stream",
     "text": [
      "For regression, 49 days Root Mean Squared Error: 140677.73\n",
      "For regression, 49 days Mean Absolute Percentage Error is: 485.03%\n",
      "For 49 days, KNN Accuracy of Model with Cross Validation is 58.41%\n",
      "For 49 days, Random Forest Accuracy of Model with Cross Validation is 54.48%\n",
      "For 49 days, Gradient Boosting Accuracy of Model with Cross Validation is 47.12%\n",
      "For 49 days, GaussianNB Accuracy of Model with Cross Validation is 59.64%\n"
     ]
    },
    {
     "name": "stderr",
     "output_type": "stream",
     "text": [
      "<ipython-input-26-a6f82740e750>:128: SettingWithCopyWarning: \n",
      "A value is trying to be set on a copy of a slice from a DataFrame\n",
      "\n",
      "See the caveats in the documentation: https://pandas.pydata.org/pandas-docs/stable/user_guide/indexing.html#returning-a-view-versus-a-copy\n",
      "  df_dept.drop_duplicates(subset=None, keep='first', inplace=True)\n"
     ]
    },
    {
     "name": "stdout",
     "output_type": "stream",
     "text": [
      "For regression, 50 days Root Mean Squared Error: 140441.45\n",
      "For regression, 50 days Mean Absolute Percentage Error is: 476.53%\n",
      "For 50 days, KNN Accuracy of Model with Cross Validation is 61.09%\n",
      "For 50 days, Random Forest Accuracy of Model with Cross Validation is 53.36%\n",
      "For 50 days, Gradient Boosting Accuracy of Model with Cross Validation is 47.48%\n",
      "For 50 days, GaussianNB Accuracy of Model with Cross Validation is 60.00%\n"
     ]
    },
    {
     "name": "stderr",
     "output_type": "stream",
     "text": [
      "<ipython-input-26-a6f82740e750>:128: SettingWithCopyWarning: \n",
      "A value is trying to be set on a copy of a slice from a DataFrame\n",
      "\n",
      "See the caveats in the documentation: https://pandas.pydata.org/pandas-docs/stable/user_guide/indexing.html#returning-a-view-versus-a-copy\n",
      "  df_dept.drop_duplicates(subset=None, keep='first', inplace=True)\n"
     ]
    },
    {
     "name": "stdout",
     "output_type": "stream",
     "text": [
      "For regression, 51 days Root Mean Squared Error: 140593.81\n",
      "For regression, 51 days Mean Absolute Percentage Error is: 476.15%\n",
      "For 51 days, KNN Accuracy of Model with Cross Validation is 60.87%\n",
      "For 51 days, Random Forest Accuracy of Model with Cross Validation is 53.16%\n",
      "For 51 days, Gradient Boosting Accuracy of Model with Cross Validation is 48.23%\n",
      "For 51 days, GaussianNB Accuracy of Model with Cross Validation is 60.43%\n"
     ]
    },
    {
     "name": "stderr",
     "output_type": "stream",
     "text": [
      "<ipython-input-26-a6f82740e750>:128: SettingWithCopyWarning: \n",
      "A value is trying to be set on a copy of a slice from a DataFrame\n",
      "\n",
      "See the caveats in the documentation: https://pandas.pydata.org/pandas-docs/stable/user_guide/indexing.html#returning-a-view-versus-a-copy\n",
      "  df_dept.drop_duplicates(subset=None, keep='first', inplace=True)\n"
     ]
    },
    {
     "name": "stdout",
     "output_type": "stream",
     "text": [
      "For regression, 52 days Root Mean Squared Error: 140095.01\n",
      "For regression, 52 days Mean Absolute Percentage Error is: 475.72%\n",
      "For 52 days, KNN Accuracy of Model with Cross Validation is 61.74%\n",
      "For 52 days, Random Forest Accuracy of Model with Cross Validation is 53.74%\n",
      "For 52 days, Gradient Boosting Accuracy of Model with Cross Validation is 48.18%\n",
      "For 52 days, GaussianNB Accuracy of Model with Cross Validation is 60.72%\n"
     ]
    },
    {
     "name": "stderr",
     "output_type": "stream",
     "text": [
      "<ipython-input-26-a6f82740e750>:128: SettingWithCopyWarning: \n",
      "A value is trying to be set on a copy of a slice from a DataFrame\n",
      "\n",
      "See the caveats in the documentation: https://pandas.pydata.org/pandas-docs/stable/user_guide/indexing.html#returning-a-view-versus-a-copy\n",
      "  df_dept.drop_duplicates(subset=None, keep='first', inplace=True)\n"
     ]
    },
    {
     "name": "stdout",
     "output_type": "stream",
     "text": [
      "For regression, 53 days Root Mean Squared Error: 138326.23\n",
      "For regression, 53 days Mean Absolute Percentage Error is: 529.04%\n",
      "For 53 days, KNN Accuracy of Model with Cross Validation is 61.79%\n",
      "For 53 days, Random Forest Accuracy of Model with Cross Validation is 54.05%\n",
      "For 53 days, Gradient Boosting Accuracy of Model with Cross Validation is 49.26%\n",
      "For 53 days, GaussianNB Accuracy of Model with Cross Validation is 60.77%\n"
     ]
    },
    {
     "name": "stderr",
     "output_type": "stream",
     "text": [
      "<ipython-input-26-a6f82740e750>:128: SettingWithCopyWarning: \n",
      "A value is trying to be set on a copy of a slice from a DataFrame\n",
      "\n",
      "See the caveats in the documentation: https://pandas.pydata.org/pandas-docs/stable/user_guide/indexing.html#returning-a-view-versus-a-copy\n",
      "  df_dept.drop_duplicates(subset=None, keep='first', inplace=True)\n"
     ]
    },
    {
     "name": "stdout",
     "output_type": "stream",
     "text": [
      "For regression, 54 days Root Mean Squared Error: 139313.24\n",
      "For regression, 54 days Mean Absolute Percentage Error is: 540.77%\n",
      "For 54 days, KNN Accuracy of Model with Cross Validation is 62.73%\n",
      "For 54 days, Random Forest Accuracy of Model with Cross Validation is 54.15%\n",
      "For 54 days, Gradient Boosting Accuracy of Model with Cross Validation is 48.90%\n",
      "For 54 days, GaussianNB Accuracy of Model with Cross Validation is 61.06%\n"
     ]
    },
    {
     "name": "stderr",
     "output_type": "stream",
     "text": [
      "<ipython-input-26-a6f82740e750>:128: SettingWithCopyWarning: \n",
      "A value is trying to be set on a copy of a slice from a DataFrame\n",
      "\n",
      "See the caveats in the documentation: https://pandas.pydata.org/pandas-docs/stable/user_guide/indexing.html#returning-a-view-versus-a-copy\n",
      "  df_dept.drop_duplicates(subset=None, keep='first', inplace=True)\n"
     ]
    },
    {
     "name": "stdout",
     "output_type": "stream",
     "text": [
      "For regression, 55 days Root Mean Squared Error: 138287.29\n",
      "For regression, 55 days Mean Absolute Percentage Error is: 521.34%\n",
      "For 55 days, KNN Accuracy of Model with Cross Validation is 61.35%\n",
      "For 55 days, Random Forest Accuracy of Model with Cross Validation is 55.07%\n",
      "For 55 days, Gradient Boosting Accuracy of Model with Cross Validation is 49.93%\n",
      "For 55 days, GaussianNB Accuracy of Model with Cross Validation is 61.14%\n"
     ]
    },
    {
     "name": "stderr",
     "output_type": "stream",
     "text": [
      "<ipython-input-26-a6f82740e750>:128: SettingWithCopyWarning: \n",
      "A value is trying to be set on a copy of a slice from a DataFrame\n",
      "\n",
      "See the caveats in the documentation: https://pandas.pydata.org/pandas-docs/stable/user_guide/indexing.html#returning-a-view-versus-a-copy\n",
      "  df_dept.drop_duplicates(subset=None, keep='first', inplace=True)\n"
     ]
    },
    {
     "name": "stdout",
     "output_type": "stream",
     "text": [
      "For regression, 56 days Root Mean Squared Error: 140250.41\n",
      "For regression, 56 days Mean Absolute Percentage Error is: 458.75%\n",
      "For 56 days, KNN Accuracy of Model with Cross Validation is 61.83%\n",
      "For 56 days, Random Forest Accuracy of Model with Cross Validation is 57.67%\n",
      "For 56 days, Gradient Boosting Accuracy of Model with Cross Validation is 51.14%\n",
      "For 56 days, GaussianNB Accuracy of Model with Cross Validation is 61.54%\n"
     ]
    },
    {
     "name": "stderr",
     "output_type": "stream",
     "text": [
      "<ipython-input-26-a6f82740e750>:128: SettingWithCopyWarning: \n",
      "A value is trying to be set on a copy of a slice from a DataFrame\n",
      "\n",
      "See the caveats in the documentation: https://pandas.pydata.org/pandas-docs/stable/user_guide/indexing.html#returning-a-view-versus-a-copy\n",
      "  df_dept.drop_duplicates(subset=None, keep='first', inplace=True)\n"
     ]
    },
    {
     "name": "stdout",
     "output_type": "stream",
     "text": [
      "For regression, 57 days Root Mean Squared Error: 124318.66\n",
      "For regression, 57 days Mean Absolute Percentage Error is: 480.92%\n",
      "For 57 days, KNN Accuracy of Model with Cross Validation is 63.18%\n",
      "For 57 days, Random Forest Accuracy of Model with Cross Validation is 51.81%\n",
      "For 57 days, Gradient Boosting Accuracy of Model with Cross Validation is 52.53%\n",
      "For 57 days, GaussianNB Accuracy of Model with Cross Validation is 61.73%\n"
     ]
    },
    {
     "name": "stderr",
     "output_type": "stream",
     "text": [
      "<ipython-input-26-a6f82740e750>:128: SettingWithCopyWarning: \n",
      "A value is trying to be set on a copy of a slice from a DataFrame\n",
      "\n",
      "See the caveats in the documentation: https://pandas.pydata.org/pandas-docs/stable/user_guide/indexing.html#returning-a-view-versus-a-copy\n",
      "  df_dept.drop_duplicates(subset=None, keep='first', inplace=True)\n"
     ]
    },
    {
     "name": "stdout",
     "output_type": "stream",
     "text": [
      "For regression, 58 days Root Mean Squared Error: 133419.97\n",
      "For regression, 58 days Mean Absolute Percentage Error is: 464.57%\n",
      "For 58 days, KNN Accuracy of Model with Cross Validation is 61.99%\n",
      "For 58 days, Random Forest Accuracy of Model with Cross Validation is 56.92%\n",
      "For 58 days, Gradient Boosting Accuracy of Model with Cross Validation is 52.09%\n",
      "For 58 days, GaussianNB Accuracy of Model with Cross Validation is 62.28%\n"
     ]
    },
    {
     "name": "stderr",
     "output_type": "stream",
     "text": [
      "<ipython-input-26-a6f82740e750>:128: SettingWithCopyWarning: \n",
      "A value is trying to be set on a copy of a slice from a DataFrame\n",
      "\n",
      "See the caveats in the documentation: https://pandas.pydata.org/pandas-docs/stable/user_guide/indexing.html#returning-a-view-versus-a-copy\n",
      "  df_dept.drop_duplicates(subset=None, keep='first', inplace=True)\n"
     ]
    },
    {
     "name": "stdout",
     "output_type": "stream",
     "text": [
      "For regression, 59 days Root Mean Squared Error: 133110.54\n",
      "For regression, 59 days Mean Absolute Percentage Error is: 463.30%\n",
      "For 59 days, KNN Accuracy of Model with Cross Validation is 64.03%\n",
      "For 59 days, Random Forest Accuracy of Model with Cross Validation is 57.55%\n",
      "For 59 days, Gradient Boosting Accuracy of Model with Cross Validation is 52.76%\n",
      "For 59 days, GaussianNB Accuracy of Model with Cross Validation is 62.36%\n"
     ]
    },
    {
     "name": "stderr",
     "output_type": "stream",
     "text": [
      "<ipython-input-26-a6f82740e750>:128: SettingWithCopyWarning: \n",
      "A value is trying to be set on a copy of a slice from a DataFrame\n",
      "\n",
      "See the caveats in the documentation: https://pandas.pydata.org/pandas-docs/stable/user_guide/indexing.html#returning-a-view-versus-a-copy\n",
      "  df_dept.drop_duplicates(subset=None, keep='first', inplace=True)\n"
     ]
    },
    {
     "name": "stdout",
     "output_type": "stream",
     "text": [
      "For regression, 60 days Root Mean Squared Error: 132560.37\n",
      "For regression, 60 days Mean Absolute Percentage Error is: 459.48%\n",
      "For 60 days, KNN Accuracy of Model with Cross Validation is 65.05%\n",
      "For 60 days, Random Forest Accuracy of Model with Cross Validation is 56.85%\n",
      "For 60 days, Gradient Boosting Accuracy of Model with Cross Validation is 53.12%\n",
      "For 60 days, GaussianNB Accuracy of Model with Cross Validation is 62.50%\n"
     ]
    },
    {
     "name": "stderr",
     "output_type": "stream",
     "text": [
      "<ipython-input-26-a6f82740e750>:128: SettingWithCopyWarning: \n",
      "A value is trying to be set on a copy of a slice from a DataFrame\n",
      "\n",
      "See the caveats in the documentation: https://pandas.pydata.org/pandas-docs/stable/user_guide/indexing.html#returning-a-view-versus-a-copy\n",
      "  df_dept.drop_duplicates(subset=None, keep='first', inplace=True)\n"
     ]
    },
    {
     "name": "stdout",
     "output_type": "stream",
     "text": [
      "For regression, 61 days Root Mean Squared Error: 143080.27\n",
      "For regression, 61 days Mean Absolute Percentage Error is: 492.68%\n",
      "For 61 days, KNN Accuracy of Model with Cross Validation is 64.49%\n",
      "For 61 days, Random Forest Accuracy of Model with Cross Validation is 54.23%\n",
      "For 61 days, Gradient Boosting Accuracy of Model with Cross Validation is 53.85%\n",
      "For 61 days, GaussianNB Accuracy of Model with Cross Validation is 62.89%\n"
     ]
    },
    {
     "name": "stderr",
     "output_type": "stream",
     "text": [
      "<ipython-input-26-a6f82740e750>:128: SettingWithCopyWarning: \n",
      "A value is trying to be set on a copy of a slice from a DataFrame\n",
      "\n",
      "See the caveats in the documentation: https://pandas.pydata.org/pandas-docs/stable/user_guide/indexing.html#returning-a-view-versus-a-copy\n",
      "  df_dept.drop_duplicates(subset=None, keep='first', inplace=True)\n"
     ]
    },
    {
     "name": "stdout",
     "output_type": "stream",
     "text": [
      "For regression, 62 days Root Mean Squared Error: 143339.32\n",
      "For regression, 62 days Mean Absolute Percentage Error is: 603.09%\n",
      "For 62 days, KNN Accuracy of Model with Cross Validation is 63.68%\n",
      "For 62 days, Random Forest Accuracy of Model with Cross Validation is 56.88%\n",
      "For 62 days, Gradient Boosting Accuracy of Model with Cross Validation is 53.23%\n",
      "For 62 days, GaussianNB Accuracy of Model with Cross Validation is 63.09%\n"
     ]
    },
    {
     "name": "stderr",
     "output_type": "stream",
     "text": [
      "<ipython-input-26-a6f82740e750>:128: SettingWithCopyWarning: \n",
      "A value is trying to be set on a copy of a slice from a DataFrame\n",
      "\n",
      "See the caveats in the documentation: https://pandas.pydata.org/pandas-docs/stable/user_guide/indexing.html#returning-a-view-versus-a-copy\n",
      "  df_dept.drop_duplicates(subset=None, keep='first', inplace=True)\n"
     ]
    },
    {
     "name": "stdout",
     "output_type": "stream",
     "text": [
      "For regression, 63 days Root Mean Squared Error: 143110.83\n",
      "For regression, 63 days Mean Absolute Percentage Error is: 597.94%\n",
      "For 63 days, KNN Accuracy of Model with Cross Validation is 64.48%\n",
      "For 63 days, Random Forest Accuracy of Model with Cross Validation is 56.46%\n",
      "For 63 days, Gradient Boosting Accuracy of Model with Cross Validation is 53.90%\n",
      "For 63 days, GaussianNB Accuracy of Model with Cross Validation is 63.75%\n"
     ]
    },
    {
     "name": "stderr",
     "output_type": "stream",
     "text": [
      "<ipython-input-26-a6f82740e750>:128: SettingWithCopyWarning: \n",
      "A value is trying to be set on a copy of a slice from a DataFrame\n",
      "\n",
      "See the caveats in the documentation: https://pandas.pydata.org/pandas-docs/stable/user_guide/indexing.html#returning-a-view-versus-a-copy\n",
      "  df_dept.drop_duplicates(subset=None, keep='first', inplace=True)\n"
     ]
    },
    {
     "name": "stdout",
     "output_type": "stream",
     "text": [
      "For regression, 64 days Root Mean Squared Error: 148760.44\n",
      "For regression, 64 days Mean Absolute Percentage Error is: 505.08%\n",
      "For 64 days, KNN Accuracy of Model with Cross Validation is 65.69%\n",
      "For 64 days, Random Forest Accuracy of Model with Cross Validation is 55.07%\n",
      "For 64 days, Gradient Boosting Accuracy of Model with Cross Validation is 54.60%\n",
      "For 64 days, GaussianNB Accuracy of Model with Cross Validation is 63.94%\n"
     ]
    },
    {
     "name": "stderr",
     "output_type": "stream",
     "text": [
      "<ipython-input-26-a6f82740e750>:128: SettingWithCopyWarning: \n",
      "A value is trying to be set on a copy of a slice from a DataFrame\n",
      "\n",
      "See the caveats in the documentation: https://pandas.pydata.org/pandas-docs/stable/user_guide/indexing.html#returning-a-view-versus-a-copy\n",
      "  df_dept.drop_duplicates(subset=None, keep='first', inplace=True)\n"
     ]
    },
    {
     "name": "stdout",
     "output_type": "stream",
     "text": [
      "For regression, 65 days Root Mean Squared Error: 158097.25\n",
      "For regression, 65 days Mean Absolute Percentage Error is: 464.06%\n",
      "For 65 days, KNN Accuracy of Model with Cross Validation is 64.40%\n",
      "For 65 days, Random Forest Accuracy of Model with Cross Validation is 58.06%\n",
      "For 65 days, Gradient Boosting Accuracy of Model with Cross Validation is 55.14%\n",
      "For 65 days, GaussianNB Accuracy of Model with Cross Validation is 64.04%\n"
     ]
    },
    {
     "name": "stderr",
     "output_type": "stream",
     "text": [
      "<ipython-input-26-a6f82740e750>:128: SettingWithCopyWarning: \n",
      "A value is trying to be set on a copy of a slice from a DataFrame\n",
      "\n",
      "See the caveats in the documentation: https://pandas.pydata.org/pandas-docs/stable/user_guide/indexing.html#returning-a-view-versus-a-copy\n",
      "  df_dept.drop_duplicates(subset=None, keep='first', inplace=True)\n"
     ]
    },
    {
     "name": "stdout",
     "output_type": "stream",
     "text": [
      "For regression, 66 days Root Mean Squared Error: 151966.48\n",
      "For regression, 66 days Mean Absolute Percentage Error is: 465.59%\n",
      "For 66 days, KNN Accuracy of Model with Cross Validation is 64.89%\n",
      "For 66 days, Random Forest Accuracy of Model with Cross Validation is 58.14%\n",
      "For 66 days, Gradient Boosting Accuracy of Model with Cross Validation is 54.62%\n",
      "For 66 days, GaussianNB Accuracy of Model with Cross Validation is 64.23%\n"
     ]
    },
    {
     "name": "stderr",
     "output_type": "stream",
     "text": [
      "<ipython-input-26-a6f82740e750>:128: SettingWithCopyWarning: \n",
      "A value is trying to be set on a copy of a slice from a DataFrame\n",
      "\n",
      "See the caveats in the documentation: https://pandas.pydata.org/pandas-docs/stable/user_guide/indexing.html#returning-a-view-versus-a-copy\n",
      "  df_dept.drop_duplicates(subset=None, keep='first', inplace=True)\n"
     ]
    },
    {
     "name": "stdout",
     "output_type": "stream",
     "text": [
      "For regression, 67 days Root Mean Squared Error: 188097.34\n",
      "For regression, 67 days Mean Absolute Percentage Error is: 476.59%\n",
      "For 67 days, KNN Accuracy of Model with Cross Validation is 65.89%\n",
      "For 67 days, Random Forest Accuracy of Model with Cross Validation is 61.67%\n",
      "For 67 days, Gradient Boosting Accuracy of Model with Cross Validation is 54.41%\n",
      "For 67 days, GaussianNB Accuracy of Model with Cross Validation is 64.64%\n"
     ]
    },
    {
     "name": "stderr",
     "output_type": "stream",
     "text": [
      "<ipython-input-26-a6f82740e750>:128: SettingWithCopyWarning: \n",
      "A value is trying to be set on a copy of a slice from a DataFrame\n",
      "\n",
      "See the caveats in the documentation: https://pandas.pydata.org/pandas-docs/stable/user_guide/indexing.html#returning-a-view-versus-a-copy\n",
      "  df_dept.drop_duplicates(subset=None, keep='first', inplace=True)\n"
     ]
    },
    {
     "name": "stdout",
     "output_type": "stream",
     "text": [
      "For regression, 68 days Root Mean Squared Error: 193454.68\n",
      "For regression, 68 days Mean Absolute Percentage Error is: 484.86%\n",
      "For 68 days, KNN Accuracy of Model with Cross Validation is 66.15%\n",
      "For 68 days, Random Forest Accuracy of Model with Cross Validation is 58.61%\n",
      "For 68 days, Gradient Boosting Accuracy of Model with Cross Validation is 54.67%\n",
      "For 68 days, GaussianNB Accuracy of Model with Cross Validation is 64.84%\n"
     ]
    },
    {
     "name": "stderr",
     "output_type": "stream",
     "text": [
      "<ipython-input-26-a6f82740e750>:128: SettingWithCopyWarning: \n",
      "A value is trying to be set on a copy of a slice from a DataFrame\n",
      "\n",
      "See the caveats in the documentation: https://pandas.pydata.org/pandas-docs/stable/user_guide/indexing.html#returning-a-view-versus-a-copy\n",
      "  df_dept.drop_duplicates(subset=None, keep='first', inplace=True)\n"
     ]
    },
    {
     "name": "stdout",
     "output_type": "stream",
     "text": [
      "For regression, 69 days Root Mean Squared Error: 193007.89\n",
      "For regression, 69 days Mean Absolute Percentage Error is: 459.44%\n",
      "For 69 days, KNN Accuracy of Model with Cross Validation is 66.01%\n",
      "For 69 days, Random Forest Accuracy of Model with Cross Validation is 59.04%\n",
      "For 69 days, Gradient Boosting Accuracy of Model with Cross Validation is 55.51%\n",
      "For 69 days, GaussianNB Accuracy of Model with Cross Validation is 65.13%\n"
     ]
    },
    {
     "name": "stderr",
     "output_type": "stream",
     "text": [
      "<ipython-input-26-a6f82740e750>:128: SettingWithCopyWarning: \n",
      "A value is trying to be set on a copy of a slice from a DataFrame\n",
      "\n",
      "See the caveats in the documentation: https://pandas.pydata.org/pandas-docs/stable/user_guide/indexing.html#returning-a-view-versus-a-copy\n",
      "  df_dept.drop_duplicates(subset=None, keep='first', inplace=True)\n"
     ]
    },
    {
     "name": "stdout",
     "output_type": "stream",
     "text": [
      "For regression, 70 days Root Mean Squared Error: 193107.86\n",
      "For regression, 70 days Mean Absolute Percentage Error is: 458.48%\n",
      "For 70 days, KNN Accuracy of Model with Cross Validation is 66.74%\n",
      "For 70 days, Random Forest Accuracy of Model with Cross Validation is 59.10%\n",
      "For 70 days, Gradient Boosting Accuracy of Model with Cross Validation is 55.70%\n",
      "For 70 days, GaussianNB Accuracy of Model with Cross Validation is 65.35%\n"
     ]
    },
    {
     "name": "stderr",
     "output_type": "stream",
     "text": [
      "<ipython-input-26-a6f82740e750>:128: SettingWithCopyWarning: \n",
      "A value is trying to be set on a copy of a slice from a DataFrame\n",
      "\n",
      "See the caveats in the documentation: https://pandas.pydata.org/pandas-docs/stable/user_guide/indexing.html#returning-a-view-versus-a-copy\n",
      "  df_dept.drop_duplicates(subset=None, keep='first', inplace=True)\n"
     ]
    },
    {
     "name": "stdout",
     "output_type": "stream",
     "text": [
      "For regression, 71 days Root Mean Squared Error: 193258.18\n",
      "For regression, 71 days Mean Absolute Percentage Error is: 418.46%\n",
      "For 71 days, KNN Accuracy of Model with Cross Validation is 67.16%\n",
      "For 71 days, Random Forest Accuracy of Model with Cross Validation is 56.87%\n",
      "For 71 days, Gradient Boosting Accuracy of Model with Cross Validation is 56.43%\n",
      "For 71 days, GaussianNB Accuracy of Model with Cross Validation is 65.55%\n"
     ]
    },
    {
     "name": "stderr",
     "output_type": "stream",
     "text": [
      "<ipython-input-26-a6f82740e750>:128: SettingWithCopyWarning: \n",
      "A value is trying to be set on a copy of a slice from a DataFrame\n",
      "\n",
      "See the caveats in the documentation: https://pandas.pydata.org/pandas-docs/stable/user_guide/indexing.html#returning-a-view-versus-a-copy\n",
      "  df_dept.drop_duplicates(subset=None, keep='first', inplace=True)\n"
     ]
    },
    {
     "name": "stdout",
     "output_type": "stream",
     "text": [
      "For regression, 72 days Root Mean Squared Error: 193475.14\n",
      "For regression, 72 days Mean Absolute Percentage Error is: 436.36%\n",
      "For 72 days, KNN Accuracy of Model with Cross Validation is 67.13%\n",
      "For 72 days, Random Forest Accuracy of Model with Cross Validation is 59.01%\n",
      "For 72 days, Gradient Boosting Accuracy of Model with Cross Validation is 58.48%\n",
      "For 72 days, GaussianNB Accuracy of Model with Cross Validation is 65.45%\n"
     ]
    },
    {
     "name": "stderr",
     "output_type": "stream",
     "text": [
      "<ipython-input-26-a6f82740e750>:128: SettingWithCopyWarning: \n",
      "A value is trying to be set on a copy of a slice from a DataFrame\n",
      "\n",
      "See the caveats in the documentation: https://pandas.pydata.org/pandas-docs/stable/user_guide/indexing.html#returning-a-view-versus-a-copy\n",
      "  df_dept.drop_duplicates(subset=None, keep='first', inplace=True)\n"
     ]
    },
    {
     "name": "stdout",
     "output_type": "stream",
     "text": [
      "For regression, 73 days Root Mean Squared Error: 192767.14\n",
      "For regression, 73 days Mean Absolute Percentage Error is: 434.28%\n",
      "For 73 days, KNN Accuracy of Model with Cross Validation is 68.01%\n",
      "For 73 days, Random Forest Accuracy of Model with Cross Validation is 58.58%\n",
      "For 73 days, Gradient Boosting Accuracy of Model with Cross Validation is 57.82%\n",
      "For 73 days, GaussianNB Accuracy of Model with Cross Validation is 66.03%\n"
     ]
    },
    {
     "name": "stderr",
     "output_type": "stream",
     "text": [
      "<ipython-input-26-a6f82740e750>:128: SettingWithCopyWarning: \n",
      "A value is trying to be set on a copy of a slice from a DataFrame\n",
      "\n",
      "See the caveats in the documentation: https://pandas.pydata.org/pandas-docs/stable/user_guide/indexing.html#returning-a-view-versus-a-copy\n",
      "  df_dept.drop_duplicates(subset=None, keep='first', inplace=True)\n"
     ]
    },
    {
     "name": "stdout",
     "output_type": "stream",
     "text": [
      "For regression, 74 days Root Mean Squared Error: 169228.20\n",
      "For regression, 74 days Mean Absolute Percentage Error is: 391.38%\n",
      "For 74 days, KNN Accuracy of Model with Cross Validation is 69.09%\n",
      "For 74 days, Random Forest Accuracy of Model with Cross Validation is 58.65%\n",
      "For 74 days, Gradient Boosting Accuracy of Model with Cross Validation is 57.57%\n",
      "For 74 days, GaussianNB Accuracy of Model with Cross Validation is 66.52%\n"
     ]
    },
    {
     "name": "stderr",
     "output_type": "stream",
     "text": [
      "<ipython-input-26-a6f82740e750>:128: SettingWithCopyWarning: \n",
      "A value is trying to be set on a copy of a slice from a DataFrame\n",
      "\n",
      "See the caveats in the documentation: https://pandas.pydata.org/pandas-docs/stable/user_guide/indexing.html#returning-a-view-versus-a-copy\n",
      "  df_dept.drop_duplicates(subset=None, keep='first', inplace=True)\n"
     ]
    },
    {
     "name": "stdout",
     "output_type": "stream",
     "text": [
      "For regression, 75 days Root Mean Squared Error: 175812.71\n",
      "For regression, 75 days Mean Absolute Percentage Error is: 416.53%\n",
      "For 75 days, KNN Accuracy of Model with Cross Validation is 68.09%\n",
      "For 75 days, Random Forest Accuracy of Model with Cross Validation is 57.59%\n",
      "For 75 days, Gradient Boosting Accuracy of Model with Cross Validation is 58.51%\n",
      "For 75 days, GaussianNB Accuracy of Model with Cross Validation is 66.47%\n"
     ]
    },
    {
     "name": "stderr",
     "output_type": "stream",
     "text": [
      "<ipython-input-26-a6f82740e750>:128: SettingWithCopyWarning: \n",
      "A value is trying to be set on a copy of a slice from a DataFrame\n",
      "\n",
      "See the caveats in the documentation: https://pandas.pydata.org/pandas-docs/stable/user_guide/indexing.html#returning-a-view-versus-a-copy\n",
      "  df_dept.drop_duplicates(subset=None, keep='first', inplace=True)\n"
     ]
    },
    {
     "name": "stdout",
     "output_type": "stream",
     "text": [
      "For regression, 76 days Root Mean Squared Error: 175967.22\n",
      "For regression, 76 days Mean Absolute Percentage Error is: 413.53%\n",
      "For 76 days, KNN Accuracy of Model with Cross Validation is 68.16%\n",
      "For 76 days, Random Forest Accuracy of Model with Cross Validation is 58.79%\n",
      "For 76 days, Gradient Boosting Accuracy of Model with Cross Validation is 58.48%\n",
      "For 76 days, GaussianNB Accuracy of Model with Cross Validation is 66.69%\n"
     ]
    },
    {
     "name": "stderr",
     "output_type": "stream",
     "text": [
      "<ipython-input-26-a6f82740e750>:128: SettingWithCopyWarning: \n",
      "A value is trying to be set on a copy of a slice from a DataFrame\n",
      "\n",
      "See the caveats in the documentation: https://pandas.pydata.org/pandas-docs/stable/user_guide/indexing.html#returning-a-view-versus-a-copy\n",
      "  df_dept.drop_duplicates(subset=None, keep='first', inplace=True)\n"
     ]
    },
    {
     "name": "stdout",
     "output_type": "stream",
     "text": [
      "For regression, 77 days Root Mean Squared Error: 168506.41\n",
      "For regression, 77 days Mean Absolute Percentage Error is: 382.33%\n",
      "For 77 days, KNN Accuracy of Model with Cross Validation is 69.74%\n",
      "For 77 days, Random Forest Accuracy of Model with Cross Validation is 59.61%\n",
      "For 77 days, Gradient Boosting Accuracy of Model with Cross Validation is 58.35%\n",
      "For 77 days, GaussianNB Accuracy of Model with Cross Validation is 66.94%\n"
     ]
    },
    {
     "name": "stderr",
     "output_type": "stream",
     "text": [
      "<ipython-input-26-a6f82740e750>:128: SettingWithCopyWarning: \n",
      "A value is trying to be set on a copy of a slice from a DataFrame\n",
      "\n",
      "See the caveats in the documentation: https://pandas.pydata.org/pandas-docs/stable/user_guide/indexing.html#returning-a-view-versus-a-copy\n",
      "  df_dept.drop_duplicates(subset=None, keep='first', inplace=True)\n"
     ]
    },
    {
     "name": "stdout",
     "output_type": "stream",
     "text": [
      "For regression, 78 days Root Mean Squared Error: 156482.51\n",
      "For regression, 78 days Mean Absolute Percentage Error is: 466.83%\n",
      "For 78 days, KNN Accuracy of Model with Cross Validation is 70.67%\n",
      "For 78 days, Random Forest Accuracy of Model with Cross Validation is 60.55%\n",
      "For 78 days, Gradient Boosting Accuracy of Model with Cross Validation is 59.03%\n",
      "For 78 days, GaussianNB Accuracy of Model with Cross Validation is 67.28%\n"
     ]
    },
    {
     "name": "stderr",
     "output_type": "stream",
     "text": [
      "<ipython-input-26-a6f82740e750>:128: SettingWithCopyWarning: \n",
      "A value is trying to be set on a copy of a slice from a DataFrame\n",
      "\n",
      "See the caveats in the documentation: https://pandas.pydata.org/pandas-docs/stable/user_guide/indexing.html#returning-a-view-versus-a-copy\n",
      "  df_dept.drop_duplicates(subset=None, keep='first', inplace=True)\n"
     ]
    },
    {
     "name": "stdout",
     "output_type": "stream",
     "text": [
      "For regression, 79 days Root Mean Squared Error: 161741.70\n",
      "For regression, 79 days Mean Absolute Percentage Error is: 422.16%\n",
      "For 79 days, KNN Accuracy of Model with Cross Validation is 71.24%\n",
      "For 79 days, Random Forest Accuracy of Model with Cross Validation is 61.40%\n",
      "For 79 days, Gradient Boosting Accuracy of Model with Cross Validation is 59.14%\n",
      "For 79 days, GaussianNB Accuracy of Model with Cross Validation is 67.41%\n"
     ]
    },
    {
     "name": "stderr",
     "output_type": "stream",
     "text": [
      "<ipython-input-26-a6f82740e750>:128: SettingWithCopyWarning: \n",
      "A value is trying to be set on a copy of a slice from a DataFrame\n",
      "\n",
      "See the caveats in the documentation: https://pandas.pydata.org/pandas-docs/stable/user_guide/indexing.html#returning-a-view-versus-a-copy\n",
      "  df_dept.drop_duplicates(subset=None, keep='first', inplace=True)\n"
     ]
    },
    {
     "name": "stdout",
     "output_type": "stream",
     "text": [
      "For regression, 80 days Root Mean Squared Error: 162157.63\n",
      "For regression, 80 days Mean Absolute Percentage Error is: 423.33%\n",
      "For 80 days, KNN Accuracy of Model with Cross Validation is 70.72%\n",
      "For 80 days, Random Forest Accuracy of Model with Cross Validation is 61.57%\n",
      "For 80 days, Gradient Boosting Accuracy of Model with Cross Validation is 59.88%\n",
      "For 80 days, GaussianNB Accuracy of Model with Cross Validation is 67.63%\n"
     ]
    },
    {
     "name": "stderr",
     "output_type": "stream",
     "text": [
      "<ipython-input-26-a6f82740e750>:128: SettingWithCopyWarning: \n",
      "A value is trying to be set on a copy of a slice from a DataFrame\n",
      "\n",
      "See the caveats in the documentation: https://pandas.pydata.org/pandas-docs/stable/user_guide/indexing.html#returning-a-view-versus-a-copy\n",
      "  df_dept.drop_duplicates(subset=None, keep='first', inplace=True)\n"
     ]
    },
    {
     "name": "stdout",
     "output_type": "stream",
     "text": [
      "For regression, 81 days Root Mean Squared Error: 223839.96\n",
      "For regression, 81 days Mean Absolute Percentage Error is: 325.69%\n",
      "For 81 days, KNN Accuracy of Model with Cross Validation is 70.83%\n",
      "For 81 days, Random Forest Accuracy of Model with Cross Validation is 60.88%\n",
      "For 81 days, Gradient Boosting Accuracy of Model with Cross Validation is 59.72%\n",
      "For 81 days, GaussianNB Accuracy of Model with Cross Validation is 67.73%\n"
     ]
    },
    {
     "name": "stderr",
     "output_type": "stream",
     "text": [
      "<ipython-input-26-a6f82740e750>:128: SettingWithCopyWarning: \n",
      "A value is trying to be set on a copy of a slice from a DataFrame\n",
      "\n",
      "See the caveats in the documentation: https://pandas.pydata.org/pandas-docs/stable/user_guide/indexing.html#returning-a-view-versus-a-copy\n",
      "  df_dept.drop_duplicates(subset=None, keep='first', inplace=True)\n"
     ]
    },
    {
     "name": "stdout",
     "output_type": "stream",
     "text": [
      "For regression, 82 days Root Mean Squared Error: 223204.16\n",
      "For regression, 82 days Mean Absolute Percentage Error is: 324.43%\n",
      "For 82 days, KNN Accuracy of Model with Cross Validation is 70.39%\n",
      "For 82 days, Random Forest Accuracy of Model with Cross Validation is 62.34%\n",
      "For 82 days, Gradient Boosting Accuracy of Model with Cross Validation is 60.21%\n",
      "For 82 days, GaussianNB Accuracy of Model with Cross Validation is 67.80%\n"
     ]
    },
    {
     "name": "stderr",
     "output_type": "stream",
     "text": [
      "<ipython-input-26-a6f82740e750>:128: SettingWithCopyWarning: \n",
      "A value is trying to be set on a copy of a slice from a DataFrame\n",
      "\n",
      "See the caveats in the documentation: https://pandas.pydata.org/pandas-docs/stable/user_guide/indexing.html#returning-a-view-versus-a-copy\n",
      "  df_dept.drop_duplicates(subset=None, keep='first', inplace=True)\n"
     ]
    },
    {
     "name": "stdout",
     "output_type": "stream",
     "text": [
      "For regression, 83 days Root Mean Squared Error: 134844.84\n",
      "For regression, 83 days Mean Absolute Percentage Error is: 369.25%\n",
      "For 83 days, KNN Accuracy of Model with Cross Validation is 71.33%\n",
      "For 83 days, Random Forest Accuracy of Model with Cross Validation is 61.96%\n",
      "For 83 days, Gradient Boosting Accuracy of Model with Cross Validation is 60.39%\n",
      "For 83 days, GaussianNB Accuracy of Model with Cross Validation is 67.78%\n"
     ]
    },
    {
     "name": "stderr",
     "output_type": "stream",
     "text": [
      "<ipython-input-26-a6f82740e750>:128: SettingWithCopyWarning: \n",
      "A value is trying to be set on a copy of a slice from a DataFrame\n",
      "\n",
      "See the caveats in the documentation: https://pandas.pydata.org/pandas-docs/stable/user_guide/indexing.html#returning-a-view-versus-a-copy\n",
      "  df_dept.drop_duplicates(subset=None, keep='first', inplace=True)\n"
     ]
    },
    {
     "name": "stdout",
     "output_type": "stream",
     "text": [
      "For regression, 84 days Root Mean Squared Error: 135334.71\n",
      "For regression, 84 days Mean Absolute Percentage Error is: 406.11%\n",
      "For 84 days, KNN Accuracy of Model with Cross Validation is 71.38%\n",
      "For 84 days, Random Forest Accuracy of Model with Cross Validation is 59.67%\n",
      "For 84 days, Gradient Boosting Accuracy of Model with Cross Validation is 60.45%\n",
      "For 84 days, GaussianNB Accuracy of Model with Cross Validation is 67.98%\n"
     ]
    },
    {
     "name": "stderr",
     "output_type": "stream",
     "text": [
      "<ipython-input-26-a6f82740e750>:128: SettingWithCopyWarning: \n",
      "A value is trying to be set on a copy of a slice from a DataFrame\n",
      "\n",
      "See the caveats in the documentation: https://pandas.pydata.org/pandas-docs/stable/user_guide/indexing.html#returning-a-view-versus-a-copy\n",
      "  df_dept.drop_duplicates(subset=None, keep='first', inplace=True)\n"
     ]
    },
    {
     "name": "stdout",
     "output_type": "stream",
     "text": [
      "For regression, 85 days Root Mean Squared Error: 120032.20\n",
      "For regression, 85 days Mean Absolute Percentage Error is: 409.57%\n",
      "For 85 days, KNN Accuracy of Model with Cross Validation is 71.41%\n",
      "For 85 days, Random Forest Accuracy of Model with Cross Validation is 60.91%\n",
      "For 85 days, Gradient Boosting Accuracy of Model with Cross Validation is 60.93%\n",
      "For 85 days, GaussianNB Accuracy of Model with Cross Validation is 68.00%\n"
     ]
    },
    {
     "name": "stderr",
     "output_type": "stream",
     "text": [
      "<ipython-input-26-a6f82740e750>:128: SettingWithCopyWarning: \n",
      "A value is trying to be set on a copy of a slice from a DataFrame\n",
      "\n",
      "See the caveats in the documentation: https://pandas.pydata.org/pandas-docs/stable/user_guide/indexing.html#returning-a-view-versus-a-copy\n",
      "  df_dept.drop_duplicates(subset=None, keep='first', inplace=True)\n"
     ]
    },
    {
     "name": "stdout",
     "output_type": "stream",
     "text": [
      "For regression, 86 days Root Mean Squared Error: 137477.46\n",
      "For regression, 86 days Mean Absolute Percentage Error is: 396.84%\n",
      "For 86 days, KNN Accuracy of Model with Cross Validation is 71.52%\n",
      "For 86 days, Random Forest Accuracy of Model with Cross Validation is 60.24%\n",
      "For 86 days, Gradient Boosting Accuracy of Model with Cross Validation is 61.12%\n",
      "For 86 days, GaussianNB Accuracy of Model with Cross Validation is 68.33%\n"
     ]
    },
    {
     "name": "stderr",
     "output_type": "stream",
     "text": [
      "<ipython-input-26-a6f82740e750>:128: SettingWithCopyWarning: \n",
      "A value is trying to be set on a copy of a slice from a DataFrame\n",
      "\n",
      "See the caveats in the documentation: https://pandas.pydata.org/pandas-docs/stable/user_guide/indexing.html#returning-a-view-versus-a-copy\n",
      "  df_dept.drop_duplicates(subset=None, keep='first', inplace=True)\n"
     ]
    },
    {
     "name": "stdout",
     "output_type": "stream",
     "text": [
      "For regression, 87 days Root Mean Squared Error: 95493.71\n",
      "For regression, 87 days Mean Absolute Percentage Error is: 335.77%\n",
      "For 87 days, KNN Accuracy of Model with Cross Validation is 72.83%\n",
      "For 87 days, Random Forest Accuracy of Model with Cross Validation is 59.03%\n",
      "For 87 days, Gradient Boosting Accuracy of Model with Cross Validation is 61.61%\n",
      "For 87 days, GaussianNB Accuracy of Model with Cross Validation is 68.60%\n"
     ]
    },
    {
     "name": "stderr",
     "output_type": "stream",
     "text": [
      "<ipython-input-26-a6f82740e750>:128: SettingWithCopyWarning: \n",
      "A value is trying to be set on a copy of a slice from a DataFrame\n",
      "\n",
      "See the caveats in the documentation: https://pandas.pydata.org/pandas-docs/stable/user_guide/indexing.html#returning-a-view-versus-a-copy\n",
      "  df_dept.drop_duplicates(subset=None, keep='first', inplace=True)\n"
     ]
    },
    {
     "name": "stdout",
     "output_type": "stream",
     "text": [
      "For regression, 88 days Root Mean Squared Error: 96001.16\n",
      "For regression, 88 days Mean Absolute Percentage Error is: 418.21%\n",
      "For 88 days, KNN Accuracy of Model with Cross Validation is 72.40%\n",
      "For 88 days, Random Forest Accuracy of Model with Cross Validation is 59.82%\n",
      "For 88 days, Gradient Boosting Accuracy of Model with Cross Validation is 61.80%\n",
      "For 88 days, GaussianNB Accuracy of Model with Cross Validation is 68.75%\n"
     ]
    },
    {
     "name": "stderr",
     "output_type": "stream",
     "text": [
      "<ipython-input-26-a6f82740e750>:128: SettingWithCopyWarning: \n",
      "A value is trying to be set on a copy of a slice from a DataFrame\n",
      "\n",
      "See the caveats in the documentation: https://pandas.pydata.org/pandas-docs/stable/user_guide/indexing.html#returning-a-view-versus-a-copy\n",
      "  df_dept.drop_duplicates(subset=None, keep='first', inplace=True)\n"
     ]
    },
    {
     "name": "stdout",
     "output_type": "stream",
     "text": [
      "For regression, 89 days Root Mean Squared Error: 146332.84\n",
      "For regression, 89 days Mean Absolute Percentage Error is: 369.22%\n",
      "For 89 days, KNN Accuracy of Model with Cross Validation is 71.69%\n",
      "For 89 days, Random Forest Accuracy of Model with Cross Validation is 63.04%\n",
      "For 89 days, Gradient Boosting Accuracy of Model with Cross Validation is 62.33%\n",
      "For 89 days, GaussianNB Accuracy of Model with Cross Validation is 69.15%\n"
     ]
    },
    {
     "name": "stderr",
     "output_type": "stream",
     "text": [
      "<ipython-input-26-a6f82740e750>:128: SettingWithCopyWarning: \n",
      "A value is trying to be set on a copy of a slice from a DataFrame\n",
      "\n",
      "See the caveats in the documentation: https://pandas.pydata.org/pandas-docs/stable/user_guide/indexing.html#returning-a-view-versus-a-copy\n",
      "  df_dept.drop_duplicates(subset=None, keep='first', inplace=True)\n"
     ]
    },
    {
     "name": "stdout",
     "output_type": "stream",
     "text": [
      "For regression, 90 days Root Mean Squared Error: 145642.13\n",
      "For regression, 90 days Mean Absolute Percentage Error is: 379.93%\n",
      "For 90 days, KNN Accuracy of Model with Cross Validation is 72.11%\n",
      "For 90 days, Random Forest Accuracy of Model with Cross Validation is 64.15%\n",
      "For 90 days, Gradient Boosting Accuracy of Model with Cross Validation is 62.58%\n",
      "For 90 days, GaussianNB Accuracy of Model with Cross Validation is 69.58%\n"
     ]
    },
    {
     "name": "stderr",
     "output_type": "stream",
     "text": [
      "<ipython-input-26-a6f82740e750>:128: SettingWithCopyWarning: \n",
      "A value is trying to be set on a copy of a slice from a DataFrame\n",
      "\n",
      "See the caveats in the documentation: https://pandas.pydata.org/pandas-docs/stable/user_guide/indexing.html#returning-a-view-versus-a-copy\n",
      "  df_dept.drop_duplicates(subset=None, keep='first', inplace=True)\n"
     ]
    },
    {
     "name": "stdout",
     "output_type": "stream",
     "text": [
      "For regression, 91 days Root Mean Squared Error: 101560.10\n",
      "For regression, 91 days Mean Absolute Percentage Error is: 320.31%\n",
      "For 91 days, KNN Accuracy of Model with Cross Validation is 73.00%\n",
      "For 91 days, Random Forest Accuracy of Model with Cross Validation is 63.39%\n",
      "For 91 days, Gradient Boosting Accuracy of Model with Cross Validation is 62.68%\n",
      "For 91 days, GaussianNB Accuracy of Model with Cross Validation is 69.94%\n"
     ]
    },
    {
     "name": "stderr",
     "output_type": "stream",
     "text": [
      "<ipython-input-26-a6f82740e750>:128: SettingWithCopyWarning: \n",
      "A value is trying to be set on a copy of a slice from a DataFrame\n",
      "\n",
      "See the caveats in the documentation: https://pandas.pydata.org/pandas-docs/stable/user_guide/indexing.html#returning-a-view-versus-a-copy\n",
      "  df_dept.drop_duplicates(subset=None, keep='first', inplace=True)\n"
     ]
    },
    {
     "name": "stdout",
     "output_type": "stream",
     "text": [
      "For regression, 92 days Root Mean Squared Error: 249535.33\n",
      "For regression, 92 days Mean Absolute Percentage Error is: 343.61%\n",
      "For 92 days, KNN Accuracy of Model with Cross Validation is 72.96%\n",
      "For 92 days, Random Forest Accuracy of Model with Cross Validation is 71.85%\n",
      "For 92 days, Gradient Boosting Accuracy of Model with Cross Validation is 62.54%\n",
      "For 92 days, GaussianNB Accuracy of Model with Cross Validation is 70.19%\n"
     ]
    },
    {
     "name": "stderr",
     "output_type": "stream",
     "text": [
      "<ipython-input-26-a6f82740e750>:128: SettingWithCopyWarning: \n",
      "A value is trying to be set on a copy of a slice from a DataFrame\n",
      "\n",
      "See the caveats in the documentation: https://pandas.pydata.org/pandas-docs/stable/user_guide/indexing.html#returning-a-view-versus-a-copy\n",
      "  df_dept.drop_duplicates(subset=None, keep='first', inplace=True)\n"
     ]
    },
    {
     "name": "stdout",
     "output_type": "stream",
     "text": [
      "For regression, 93 days Root Mean Squared Error: 248415.30\n",
      "For regression, 93 days Mean Absolute Percentage Error is: 354.32%\n",
      "For 93 days, KNN Accuracy of Model with Cross Validation is 73.18%\n",
      "For 93 days, Random Forest Accuracy of Model with Cross Validation is 72.35%\n",
      "For 93 days, Gradient Boosting Accuracy of Model with Cross Validation is 63.61%\n",
      "For 93 days, GaussianNB Accuracy of Model with Cross Validation is 70.04%\n"
     ]
    },
    {
     "name": "stderr",
     "output_type": "stream",
     "text": [
      "<ipython-input-26-a6f82740e750>:128: SettingWithCopyWarning: \n",
      "A value is trying to be set on a copy of a slice from a DataFrame\n",
      "\n",
      "See the caveats in the documentation: https://pandas.pydata.org/pandas-docs/stable/user_guide/indexing.html#returning-a-view-versus-a-copy\n",
      "  df_dept.drop_duplicates(subset=None, keep='first', inplace=True)\n"
     ]
    },
    {
     "name": "stdout",
     "output_type": "stream",
     "text": [
      "For regression, 94 days Root Mean Squared Error: 246538.22\n",
      "For regression, 94 days Mean Absolute Percentage Error is: 369.14%\n",
      "For 94 days, KNN Accuracy of Model with Cross Validation is 72.92%\n",
      "For 94 days, Random Forest Accuracy of Model with Cross Validation is 72.11%\n",
      "For 94 days, Gradient Boosting Accuracy of Model with Cross Validation is 63.90%\n",
      "For 94 days, GaussianNB Accuracy of Model with Cross Validation is 70.07%\n"
     ]
    },
    {
     "name": "stderr",
     "output_type": "stream",
     "text": [
      "<ipython-input-26-a6f82740e750>:128: SettingWithCopyWarning: \n",
      "A value is trying to be set on a copy of a slice from a DataFrame\n",
      "\n",
      "See the caveats in the documentation: https://pandas.pydata.org/pandas-docs/stable/user_guide/indexing.html#returning-a-view-versus-a-copy\n",
      "  df_dept.drop_duplicates(subset=None, keep='first', inplace=True)\n"
     ]
    },
    {
     "name": "stdout",
     "output_type": "stream",
     "text": [
      "For regression, 95 days Root Mean Squared Error: 253424.05\n",
      "For regression, 95 days Mean Absolute Percentage Error is: 336.96%\n",
      "For 95 days, KNN Accuracy of Model with Cross Validation is 73.95%\n",
      "For 95 days, Random Forest Accuracy of Model with Cross Validation is 75.61%\n",
      "For 95 days, Gradient Boosting Accuracy of Model with Cross Validation is 63.99%\n",
      "For 95 days, GaussianNB Accuracy of Model with Cross Validation is 70.05%\n"
     ]
    },
    {
     "name": "stderr",
     "output_type": "stream",
     "text": [
      "<ipython-input-26-a6f82740e750>:128: SettingWithCopyWarning: \n",
      "A value is trying to be set on a copy of a slice from a DataFrame\n",
      "\n",
      "See the caveats in the documentation: https://pandas.pydata.org/pandas-docs/stable/user_guide/indexing.html#returning-a-view-versus-a-copy\n",
      "  df_dept.drop_duplicates(subset=None, keep='first', inplace=True)\n"
     ]
    },
    {
     "name": "stdout",
     "output_type": "stream",
     "text": [
      "For regression, 96 days Root Mean Squared Error: 253486.60\n",
      "For regression, 96 days Mean Absolute Percentage Error is: 336.30%\n",
      "For 96 days, KNN Accuracy of Model with Cross Validation is 73.88%\n",
      "For 96 days, Random Forest Accuracy of Model with Cross Validation is 75.53%\n",
      "For 96 days, Gradient Boosting Accuracy of Model with Cross Validation is 64.67%\n",
      "For 96 days, GaussianNB Accuracy of Model with Cross Validation is 70.12%\n"
     ]
    },
    {
     "name": "stderr",
     "output_type": "stream",
     "text": [
      "<ipython-input-26-a6f82740e750>:128: SettingWithCopyWarning: \n",
      "A value is trying to be set on a copy of a slice from a DataFrame\n",
      "\n",
      "See the caveats in the documentation: https://pandas.pydata.org/pandas-docs/stable/user_guide/indexing.html#returning-a-view-versus-a-copy\n",
      "  df_dept.drop_duplicates(subset=None, keep='first', inplace=True)\n"
     ]
    },
    {
     "name": "stdout",
     "output_type": "stream",
     "text": [
      "For regression, 97 days Root Mean Squared Error: 221073.91\n",
      "For regression, 97 days Mean Absolute Percentage Error is: 316.66%\n",
      "For 97 days, KNN Accuracy of Model with Cross Validation is 74.44%\n",
      "For 97 days, Random Forest Accuracy of Model with Cross Validation is 66.28%\n",
      "For 97 days, Gradient Boosting Accuracy of Model with Cross Validation is 64.39%\n",
      "For 97 days, GaussianNB Accuracy of Model with Cross Validation is 70.30%\n"
     ]
    },
    {
     "name": "stderr",
     "output_type": "stream",
     "text": [
      "<ipython-input-26-a6f82740e750>:128: SettingWithCopyWarning: \n",
      "A value is trying to be set on a copy of a slice from a DataFrame\n",
      "\n",
      "See the caveats in the documentation: https://pandas.pydata.org/pandas-docs/stable/user_guide/indexing.html#returning-a-view-versus-a-copy\n",
      "  df_dept.drop_duplicates(subset=None, keep='first', inplace=True)\n"
     ]
    },
    {
     "name": "stdout",
     "output_type": "stream",
     "text": [
      "For regression, 98 days Root Mean Squared Error: 264873.22\n",
      "For regression, 98 days Mean Absolute Percentage Error is: 302.29%\n",
      "For 98 days, KNN Accuracy of Model with Cross Validation is 73.72%\n",
      "For 98 days, Random Forest Accuracy of Model with Cross Validation is 63.39%\n",
      "For 98 days, Gradient Boosting Accuracy of Model with Cross Validation is 64.72%\n",
      "For 98 days, GaussianNB Accuracy of Model with Cross Validation is 70.26%\n"
     ]
    },
    {
     "name": "stderr",
     "output_type": "stream",
     "text": [
      "<ipython-input-26-a6f82740e750>:128: SettingWithCopyWarning: \n",
      "A value is trying to be set on a copy of a slice from a DataFrame\n",
      "\n",
      "See the caveats in the documentation: https://pandas.pydata.org/pandas-docs/stable/user_guide/indexing.html#returning-a-view-versus-a-copy\n",
      "  df_dept.drop_duplicates(subset=None, keep='first', inplace=True)\n"
     ]
    },
    {
     "name": "stdout",
     "output_type": "stream",
     "text": [
      "For regression, 99 days Root Mean Squared Error: 264632.36\n",
      "For regression, 99 days Mean Absolute Percentage Error is: 305.22%\n",
      "For 99 days, KNN Accuracy of Model with Cross Validation is 73.95%\n",
      "For 99 days, Random Forest Accuracy of Model with Cross Validation is 64.12%\n",
      "For 99 days, Gradient Boosting Accuracy of Model with Cross Validation is 65.40%\n",
      "For 99 days, GaussianNB Accuracy of Model with Cross Validation is 70.56%\n"
     ]
    },
    {
     "name": "stderr",
     "output_type": "stream",
     "text": [
      "<ipython-input-26-a6f82740e750>:128: SettingWithCopyWarning: \n",
      "A value is trying to be set on a copy of a slice from a DataFrame\n",
      "\n",
      "See the caveats in the documentation: https://pandas.pydata.org/pandas-docs/stable/user_guide/indexing.html#returning-a-view-versus-a-copy\n",
      "  df_dept.drop_duplicates(subset=None, keep='first', inplace=True)\n"
     ]
    },
    {
     "name": "stdout",
     "output_type": "stream",
     "text": [
      "For regression, 100 days Root Mean Squared Error: 221814.52\n",
      "For regression, 100 days Mean Absolute Percentage Error is: 315.08%\n",
      "For 100 days, KNN Accuracy of Model with Cross Validation is 74.87%\n",
      "For 100 days, Random Forest Accuracy of Model with Cross Validation is 64.50%\n",
      "For 100 days, Gradient Boosting Accuracy of Model with Cross Validation is 65.23%\n",
      "For 100 days, GaussianNB Accuracy of Model with Cross Validation is 70.94%\n"
     ]
    },
    {
     "name": "stderr",
     "output_type": "stream",
     "text": [
      "<ipython-input-26-a6f82740e750>:128: SettingWithCopyWarning: \n",
      "A value is trying to be set on a copy of a slice from a DataFrame\n",
      "\n",
      "See the caveats in the documentation: https://pandas.pydata.org/pandas-docs/stable/user_guide/indexing.html#returning-a-view-versus-a-copy\n",
      "  df_dept.drop_duplicates(subset=None, keep='first', inplace=True)\n"
     ]
    },
    {
     "name": "stdout",
     "output_type": "stream",
     "text": [
      "For regression, 101 days Root Mean Squared Error: 222093.92\n",
      "For regression, 101 days Mean Absolute Percentage Error is: 274.52%\n",
      "For 101 days, KNN Accuracy of Model with Cross Validation is 74.59%\n",
      "For 101 days, Random Forest Accuracy of Model with Cross Validation is 65.44%\n",
      "For 101 days, Gradient Boosting Accuracy of Model with Cross Validation is 65.22%\n",
      "For 101 days, GaussianNB Accuracy of Model with Cross Validation is 71.11%\n"
     ]
    },
    {
     "name": "stderr",
     "output_type": "stream",
     "text": [
      "<ipython-input-26-a6f82740e750>:128: SettingWithCopyWarning: \n",
      "A value is trying to be set on a copy of a slice from a DataFrame\n",
      "\n",
      "See the caveats in the documentation: https://pandas.pydata.org/pandas-docs/stable/user_guide/indexing.html#returning-a-view-versus-a-copy\n",
      "  df_dept.drop_duplicates(subset=None, keep='first', inplace=True)\n"
     ]
    },
    {
     "name": "stdout",
     "output_type": "stream",
     "text": [
      "For regression, 102 days Root Mean Squared Error: 261941.65\n",
      "For regression, 102 days Mean Absolute Percentage Error is: 307.40%\n",
      "For 102 days, KNN Accuracy of Model with Cross Validation is 74.17%\n",
      "For 102 days, Random Forest Accuracy of Model with Cross Validation is 69.28%\n",
      "For 102 days, Gradient Boosting Accuracy of Model with Cross Validation is 65.55%\n",
      "For 102 days, GaussianNB Accuracy of Model with Cross Validation is 71.36%\n"
     ]
    },
    {
     "name": "stderr",
     "output_type": "stream",
     "text": [
      "<ipython-input-26-a6f82740e750>:128: SettingWithCopyWarning: \n",
      "A value is trying to be set on a copy of a slice from a DataFrame\n",
      "\n",
      "See the caveats in the documentation: https://pandas.pydata.org/pandas-docs/stable/user_guide/indexing.html#returning-a-view-versus-a-copy\n",
      "  df_dept.drop_duplicates(subset=None, keep='first', inplace=True)\n"
     ]
    },
    {
     "name": "stdout",
     "output_type": "stream",
     "text": [
      "For regression, 103 days Root Mean Squared Error: 258675.46\n",
      "For regression, 103 days Mean Absolute Percentage Error is: 348.30%\n",
      "For 103 days, KNN Accuracy of Model with Cross Validation is 74.66%\n",
      "For 103 days, Random Forest Accuracy of Model with Cross Validation is 67.30%\n",
      "For 103 days, Gradient Boosting Accuracy of Model with Cross Validation is 65.88%\n",
      "For 103 days, GaussianNB Accuracy of Model with Cross Validation is 71.55%\n"
     ]
    },
    {
     "name": "stderr",
     "output_type": "stream",
     "text": [
      "<ipython-input-26-a6f82740e750>:128: SettingWithCopyWarning: \n",
      "A value is trying to be set on a copy of a slice from a DataFrame\n",
      "\n",
      "See the caveats in the documentation: https://pandas.pydata.org/pandas-docs/stable/user_guide/indexing.html#returning-a-view-versus-a-copy\n",
      "  df_dept.drop_duplicates(subset=None, keep='first', inplace=True)\n"
     ]
    },
    {
     "name": "stdout",
     "output_type": "stream",
     "text": [
      "For regression, 104 days Root Mean Squared Error: 258216.88\n",
      "For regression, 104 days Mean Absolute Percentage Error is: 350.59%\n",
      "For 104 days, KNN Accuracy of Model with Cross Validation is 75.27%\n",
      "For 104 days, Random Forest Accuracy of Model with Cross Validation is 67.73%\n",
      "For 104 days, Gradient Boosting Accuracy of Model with Cross Validation is 66.64%\n",
      "For 104 days, GaussianNB Accuracy of Model with Cross Validation is 71.63%\n"
     ]
    },
    {
     "name": "stderr",
     "output_type": "stream",
     "text": [
      "<ipython-input-26-a6f82740e750>:128: SettingWithCopyWarning: \n",
      "A value is trying to be set on a copy of a slice from a DataFrame\n",
      "\n",
      "See the caveats in the documentation: https://pandas.pydata.org/pandas-docs/stable/user_guide/indexing.html#returning-a-view-versus-a-copy\n",
      "  df_dept.drop_duplicates(subset=None, keep='first', inplace=True)\n"
     ]
    },
    {
     "name": "stdout",
     "output_type": "stream",
     "text": [
      "For regression, 105 days Root Mean Squared Error: 257740.32\n",
      "For regression, 105 days Mean Absolute Percentage Error is: 347.06%\n",
      "For 105 days, KNN Accuracy of Model with Cross Validation is 75.34%\n",
      "For 105 days, Random Forest Accuracy of Model with Cross Validation is 67.23%\n",
      "For 105 days, Gradient Boosting Accuracy of Model with Cross Validation is 66.73%\n",
      "For 105 days, GaussianNB Accuracy of Model with Cross Validation is 71.78%\n"
     ]
    },
    {
     "name": "stderr",
     "output_type": "stream",
     "text": [
      "<ipython-input-26-a6f82740e750>:128: SettingWithCopyWarning: \n",
      "A value is trying to be set on a copy of a slice from a DataFrame\n",
      "\n",
      "See the caveats in the documentation: https://pandas.pydata.org/pandas-docs/stable/user_guide/indexing.html#returning-a-view-versus-a-copy\n",
      "  df_dept.drop_duplicates(subset=None, keep='first', inplace=True)\n"
     ]
    },
    {
     "name": "stdout",
     "output_type": "stream",
     "text": [
      "For regression, 106 days Root Mean Squared Error: 163366.10\n",
      "For regression, 106 days Mean Absolute Percentage Error is: 354.65%\n",
      "For 106 days, KNN Accuracy of Model with Cross Validation is 75.53%\n",
      "For 106 days, Random Forest Accuracy of Model with Cross Validation is 63.73%\n",
      "For 106 days, Gradient Boosting Accuracy of Model with Cross Validation is 67.98%\n",
      "For 106 days, GaussianNB Accuracy of Model with Cross Validation is 72.11%\n"
     ]
    },
    {
     "name": "stderr",
     "output_type": "stream",
     "text": [
      "<ipython-input-26-a6f82740e750>:128: SettingWithCopyWarning: \n",
      "A value is trying to be set on a copy of a slice from a DataFrame\n",
      "\n",
      "See the caveats in the documentation: https://pandas.pydata.org/pandas-docs/stable/user_guide/indexing.html#returning-a-view-versus-a-copy\n",
      "  df_dept.drop_duplicates(subset=None, keep='first', inplace=True)\n"
     ]
    },
    {
     "name": "stdout",
     "output_type": "stream",
     "text": [
      "For regression, 107 days Root Mean Squared Error: 145539.35\n",
      "For regression, 107 days Mean Absolute Percentage Error is: 364.83%\n",
      "For 107 days, KNN Accuracy of Model with Cross Validation is 75.57%\n",
      "For 107 days, Random Forest Accuracy of Model with Cross Validation is 68.83%\n",
      "For 107 days, Gradient Boosting Accuracy of Model with Cross Validation is 67.34%\n",
      "For 107 days, GaussianNB Accuracy of Model with Cross Validation is 72.30%\n"
     ]
    },
    {
     "name": "stderr",
     "output_type": "stream",
     "text": [
      "<ipython-input-26-a6f82740e750>:128: SettingWithCopyWarning: \n",
      "A value is trying to be set on a copy of a slice from a DataFrame\n",
      "\n",
      "See the caveats in the documentation: https://pandas.pydata.org/pandas-docs/stable/user_guide/indexing.html#returning-a-view-versus-a-copy\n",
      "  df_dept.drop_duplicates(subset=None, keep='first', inplace=True)\n"
     ]
    },
    {
     "name": "stdout",
     "output_type": "stream",
     "text": [
      "For regression, 108 days Root Mean Squared Error: 144686.57\n",
      "For regression, 108 days Mean Absolute Percentage Error is: 365.56%\n",
      "For 108 days, KNN Accuracy of Model with Cross Validation is 75.80%\n",
      "For 108 days, Random Forest Accuracy of Model with Cross Validation is 69.08%\n",
      "For 108 days, Gradient Boosting Accuracy of Model with Cross Validation is 67.99%\n",
      "For 108 days, GaussianNB Accuracy of Model with Cross Validation is 72.30%\n"
     ]
    },
    {
     "name": "stderr",
     "output_type": "stream",
     "text": [
      "<ipython-input-26-a6f82740e750>:128: SettingWithCopyWarning: \n",
      "A value is trying to be set on a copy of a slice from a DataFrame\n",
      "\n",
      "See the caveats in the documentation: https://pandas.pydata.org/pandas-docs/stable/user_guide/indexing.html#returning-a-view-versus-a-copy\n",
      "  df_dept.drop_duplicates(subset=None, keep='first', inplace=True)\n"
     ]
    },
    {
     "name": "stdout",
     "output_type": "stream",
     "text": [
      "For regression, 109 days Root Mean Squared Error: 163105.21\n",
      "For regression, 109 days Mean Absolute Percentage Error is: 378.81%\n",
      "For 109 days, KNN Accuracy of Model with Cross Validation is 76.38%\n",
      "For 109 days, Random Forest Accuracy of Model with Cross Validation is 70.64%\n",
      "For 109 days, Gradient Boosting Accuracy of Model with Cross Validation is 67.93%\n",
      "For 109 days, GaussianNB Accuracy of Model with Cross Validation is 72.34%\n"
     ]
    },
    {
     "name": "stderr",
     "output_type": "stream",
     "text": [
      "<ipython-input-26-a6f82740e750>:128: SettingWithCopyWarning: \n",
      "A value is trying to be set on a copy of a slice from a DataFrame\n",
      "\n",
      "See the caveats in the documentation: https://pandas.pydata.org/pandas-docs/stable/user_guide/indexing.html#returning-a-view-versus-a-copy\n",
      "  df_dept.drop_duplicates(subset=None, keep='first', inplace=True)\n"
     ]
    },
    {
     "name": "stdout",
     "output_type": "stream",
     "text": [
      "For regression, 110 days Root Mean Squared Error: 162309.66\n",
      "For regression, 110 days Mean Absolute Percentage Error is: 377.38%\n",
      "For 110 days, KNN Accuracy of Model with Cross Validation is 76.53%\n",
      "For 110 days, Random Forest Accuracy of Model with Cross Validation is 70.69%\n",
      "For 110 days, Gradient Boosting Accuracy of Model with Cross Validation is 68.22%\n",
      "For 110 days, GaussianNB Accuracy of Model with Cross Validation is 72.18%\n"
     ]
    },
    {
     "name": "stderr",
     "output_type": "stream",
     "text": [
      "<ipython-input-26-a6f82740e750>:128: SettingWithCopyWarning: \n",
      "A value is trying to be set on a copy of a slice from a DataFrame\n",
      "\n",
      "See the caveats in the documentation: https://pandas.pydata.org/pandas-docs/stable/user_guide/indexing.html#returning-a-view-versus-a-copy\n",
      "  df_dept.drop_duplicates(subset=None, keep='first', inplace=True)\n"
     ]
    },
    {
     "name": "stdout",
     "output_type": "stream",
     "text": [
      "For regression, 111 days Root Mean Squared Error: 171299.93\n",
      "For regression, 111 days Mean Absolute Percentage Error is: 421.12%\n",
      "For 111 days, KNN Accuracy of Model with Cross Validation is 77.19%\n",
      "For 111 days, Random Forest Accuracy of Model with Cross Validation is 67.97%\n",
      "For 111 days, Gradient Boosting Accuracy of Model with Cross Validation is 68.10%\n",
      "For 111 days, GaussianNB Accuracy of Model with Cross Validation is 72.47%\n"
     ]
    },
    {
     "name": "stderr",
     "output_type": "stream",
     "text": [
      "<ipython-input-26-a6f82740e750>:128: SettingWithCopyWarning: \n",
      "A value is trying to be set on a copy of a slice from a DataFrame\n",
      "\n",
      "See the caveats in the documentation: https://pandas.pydata.org/pandas-docs/stable/user_guide/indexing.html#returning-a-view-versus-a-copy\n",
      "  df_dept.drop_duplicates(subset=None, keep='first', inplace=True)\n"
     ]
    },
    {
     "name": "stdout",
     "output_type": "stream",
     "text": [
      "For regression, 112 days Root Mean Squared Error: 137300.92\n",
      "For regression, 112 days Mean Absolute Percentage Error is: 303.34%\n",
      "For 112 days, KNN Accuracy of Model with Cross Validation is 76.56%\n",
      "For 112 days, Random Forest Accuracy of Model with Cross Validation is 70.60%\n",
      "For 112 days, Gradient Boosting Accuracy of Model with Cross Validation is 68.38%\n",
      "For 112 days, GaussianNB Accuracy of Model with Cross Validation is 72.52%\n"
     ]
    },
    {
     "name": "stderr",
     "output_type": "stream",
     "text": [
      "<ipython-input-26-a6f82740e750>:128: SettingWithCopyWarning: \n",
      "A value is trying to be set on a copy of a slice from a DataFrame\n",
      "\n",
      "See the caveats in the documentation: https://pandas.pydata.org/pandas-docs/stable/user_guide/indexing.html#returning-a-view-versus-a-copy\n",
      "  df_dept.drop_duplicates(subset=None, keep='first', inplace=True)\n"
     ]
    },
    {
     "name": "stdout",
     "output_type": "stream",
     "text": [
      "For regression, 113 days Root Mean Squared Error: 83401.99\n",
      "For regression, 113 days Mean Absolute Percentage Error is: 367.90%\n",
      "For 113 days, KNN Accuracy of Model with Cross Validation is 76.74%\n",
      "For 113 days, Random Forest Accuracy of Model with Cross Validation is 70.63%\n",
      "For 113 days, Gradient Boosting Accuracy of Model with Cross Validation is 68.37%\n",
      "For 113 days, GaussianNB Accuracy of Model with Cross Validation is 72.46%\n"
     ]
    },
    {
     "name": "stderr",
     "output_type": "stream",
     "text": [
      "<ipython-input-26-a6f82740e750>:128: SettingWithCopyWarning: \n",
      "A value is trying to be set on a copy of a slice from a DataFrame\n",
      "\n",
      "See the caveats in the documentation: https://pandas.pydata.org/pandas-docs/stable/user_guide/indexing.html#returning-a-view-versus-a-copy\n",
      "  df_dept.drop_duplicates(subset=None, keep='first', inplace=True)\n"
     ]
    },
    {
     "name": "stdout",
     "output_type": "stream",
     "text": [
      "For regression, 114 days Root Mean Squared Error: 141690.53\n",
      "For regression, 114 days Mean Absolute Percentage Error is: 341.12%\n",
      "For 114 days, KNN Accuracy of Model with Cross Validation is 76.09%\n",
      "For 114 days, Random Forest Accuracy of Model with Cross Validation is 71.71%\n",
      "For 114 days, Gradient Boosting Accuracy of Model with Cross Validation is 68.58%\n",
      "For 114 days, GaussianNB Accuracy of Model with Cross Validation is 72.57%\n"
     ]
    },
    {
     "name": "stderr",
     "output_type": "stream",
     "text": [
      "<ipython-input-26-a6f82740e750>:128: SettingWithCopyWarning: \n",
      "A value is trying to be set on a copy of a slice from a DataFrame\n",
      "\n",
      "See the caveats in the documentation: https://pandas.pydata.org/pandas-docs/stable/user_guide/indexing.html#returning-a-view-versus-a-copy\n",
      "  df_dept.drop_duplicates(subset=None, keep='first', inplace=True)\n"
     ]
    },
    {
     "name": "stdout",
     "output_type": "stream",
     "text": [
      "For regression, 115 days Root Mean Squared Error: 85488.05\n",
      "For regression, 115 days Mean Absolute Percentage Error is: 368.80%\n",
      "For 115 days, KNN Accuracy of Model with Cross Validation is 76.81%\n",
      "For 115 days, Random Forest Accuracy of Model with Cross Validation is 71.74%\n",
      "For 115 days, Gradient Boosting Accuracy of Model with Cross Validation is 68.78%\n",
      "For 115 days, GaussianNB Accuracy of Model with Cross Validation is 72.82%\n"
     ]
    },
    {
     "name": "stderr",
     "output_type": "stream",
     "text": [
      "<ipython-input-26-a6f82740e750>:128: SettingWithCopyWarning: \n",
      "A value is trying to be set on a copy of a slice from a DataFrame\n",
      "\n",
      "See the caveats in the documentation: https://pandas.pydata.org/pandas-docs/stable/user_guide/indexing.html#returning-a-view-versus-a-copy\n",
      "  df_dept.drop_duplicates(subset=None, keep='first', inplace=True)\n"
     ]
    },
    {
     "name": "stdout",
     "output_type": "stream",
     "text": [
      "For regression, 116 days Root Mean Squared Error: 140463.11\n",
      "For regression, 116 days Mean Absolute Percentage Error is: 403.63%\n",
      "For 116 days, KNN Accuracy of Model with Cross Validation is 77.48%\n",
      "For 116 days, Random Forest Accuracy of Model with Cross Validation is 76.98%\n",
      "For 116 days, Gradient Boosting Accuracy of Model with Cross Validation is 68.86%\n",
      "For 116 days, GaussianNB Accuracy of Model with Cross Validation is 72.72%\n"
     ]
    },
    {
     "name": "stderr",
     "output_type": "stream",
     "text": [
      "<ipython-input-26-a6f82740e750>:128: SettingWithCopyWarning: \n",
      "A value is trying to be set on a copy of a slice from a DataFrame\n",
      "\n",
      "See the caveats in the documentation: https://pandas.pydata.org/pandas-docs/stable/user_guide/indexing.html#returning-a-view-versus-a-copy\n",
      "  df_dept.drop_duplicates(subset=None, keep='first', inplace=True)\n"
     ]
    },
    {
     "name": "stdout",
     "output_type": "stream",
     "text": [
      "For regression, 117 days Root Mean Squared Error: 152603.13\n",
      "For regression, 117 days Mean Absolute Percentage Error is: 445.85%\n",
      "For 117 days, KNN Accuracy of Model with Cross Validation is 76.69%\n",
      "For 117 days, Random Forest Accuracy of Model with Cross Validation is 74.74%\n",
      "For 117 days, Gradient Boosting Accuracy of Model with Cross Validation is 69.00%\n",
      "For 117 days, GaussianNB Accuracy of Model with Cross Validation is 72.77%\n"
     ]
    },
    {
     "name": "stderr",
     "output_type": "stream",
     "text": [
      "<ipython-input-26-a6f82740e750>:128: SettingWithCopyWarning: \n",
      "A value is trying to be set on a copy of a slice from a DataFrame\n",
      "\n",
      "See the caveats in the documentation: https://pandas.pydata.org/pandas-docs/stable/user_guide/indexing.html#returning-a-view-versus-a-copy\n",
      "  df_dept.drop_duplicates(subset=None, keep='first', inplace=True)\n"
     ]
    },
    {
     "name": "stdout",
     "output_type": "stream",
     "text": [
      "For regression, 118 days Root Mean Squared Error: 148291.28\n",
      "For regression, 118 days Mean Absolute Percentage Error is: 486.40%\n",
      "For 118 days, KNN Accuracy of Model with Cross Validation is 76.83%\n",
      "For 118 days, Random Forest Accuracy of Model with Cross Validation is 68.86%\n",
      "For 118 days, Gradient Boosting Accuracy of Model with Cross Validation is 69.81%\n",
      "For 118 days, GaussianNB Accuracy of Model with Cross Validation is 72.52%\n"
     ]
    },
    {
     "name": "stderr",
     "output_type": "stream",
     "text": [
      "<ipython-input-26-a6f82740e750>:128: SettingWithCopyWarning: \n",
      "A value is trying to be set on a copy of a slice from a DataFrame\n",
      "\n",
      "See the caveats in the documentation: https://pandas.pydata.org/pandas-docs/stable/user_guide/indexing.html#returning-a-view-versus-a-copy\n",
      "  df_dept.drop_duplicates(subset=None, keep='first', inplace=True)\n"
     ]
    },
    {
     "name": "stdout",
     "output_type": "stream",
     "text": [
      "For regression, 119 days Root Mean Squared Error: 137567.96\n",
      "For regression, 119 days Mean Absolute Percentage Error is: 404.29%\n",
      "For 119 days, KNN Accuracy of Model with Cross Validation is 77.14%\n",
      "For 119 days, Random Forest Accuracy of Model with Cross Validation is 75.04%\n",
      "For 119 days, Gradient Boosting Accuracy of Model with Cross Validation is 71.18%\n",
      "For 119 days, GaussianNB Accuracy of Model with Cross Validation is 72.82%\n"
     ]
    },
    {
     "name": "stderr",
     "output_type": "stream",
     "text": [
      "<ipython-input-26-a6f82740e750>:128: SettingWithCopyWarning: \n",
      "A value is trying to be set on a copy of a slice from a DataFrame\n",
      "\n",
      "See the caveats in the documentation: https://pandas.pydata.org/pandas-docs/stable/user_guide/indexing.html#returning-a-view-versus-a-copy\n",
      "  df_dept.drop_duplicates(subset=None, keep='first', inplace=True)\n"
     ]
    },
    {
     "name": "stdout",
     "output_type": "stream",
     "text": [
      "For regression, 120 days Root Mean Squared Error: 120451.62\n",
      "For regression, 120 days Mean Absolute Percentage Error is: 425.48%\n",
      "For 120 days, KNN Accuracy of Model with Cross Validation is 76.96%\n",
      "For 120 days, Random Forest Accuracy of Model with Cross Validation is 74.85%\n",
      "For 120 days, Gradient Boosting Accuracy of Model with Cross Validation is 71.59%\n",
      "For 120 days, GaussianNB Accuracy of Model with Cross Validation is 72.94%\n"
     ]
    },
    {
     "name": "stderr",
     "output_type": "stream",
     "text": [
      "<ipython-input-26-a6f82740e750>:128: SettingWithCopyWarning: \n",
      "A value is trying to be set on a copy of a slice from a DataFrame\n",
      "\n",
      "See the caveats in the documentation: https://pandas.pydata.org/pandas-docs/stable/user_guide/indexing.html#returning-a-view-versus-a-copy\n",
      "  df_dept.drop_duplicates(subset=None, keep='first', inplace=True)\n"
     ]
    },
    {
     "name": "stdout",
     "output_type": "stream",
     "text": [
      "For regression, 121 days Root Mean Squared Error: 229273.76\n",
      "For regression, 121 days Mean Absolute Percentage Error is: 294.22%\n",
      "For 121 days, KNN Accuracy of Model with Cross Validation is 77.23%\n",
      "For 121 days, Random Forest Accuracy of Model with Cross Validation is 76.85%\n",
      "For 121 days, Gradient Boosting Accuracy of Model with Cross Validation is 71.02%\n",
      "For 121 days, GaussianNB Accuracy of Model with Cross Validation is 72.97%\n"
     ]
    },
    {
     "name": "stderr",
     "output_type": "stream",
     "text": [
      "<ipython-input-26-a6f82740e750>:128: SettingWithCopyWarning: \n",
      "A value is trying to be set on a copy of a slice from a DataFrame\n",
      "\n",
      "See the caveats in the documentation: https://pandas.pydata.org/pandas-docs/stable/user_guide/indexing.html#returning-a-view-versus-a-copy\n",
      "  df_dept.drop_duplicates(subset=None, keep='first', inplace=True)\n"
     ]
    },
    {
     "name": "stdout",
     "output_type": "stream",
     "text": [
      "For regression, 122 days Root Mean Squared Error: 240808.70\n",
      "For regression, 122 days Mean Absolute Percentage Error is: 223.83%\n",
      "For 122 days, KNN Accuracy of Model with Cross Validation is 77.51%\n",
      "For 122 days, Random Forest Accuracy of Model with Cross Validation is 77.31%\n",
      "For 122 days, Gradient Boosting Accuracy of Model with Cross Validation is 70.97%\n",
      "For 122 days, GaussianNB Accuracy of Model with Cross Validation is 73.09%\n"
     ]
    },
    {
     "name": "stderr",
     "output_type": "stream",
     "text": [
      "<ipython-input-26-a6f82740e750>:128: SettingWithCopyWarning: \n",
      "A value is trying to be set on a copy of a slice from a DataFrame\n",
      "\n",
      "See the caveats in the documentation: https://pandas.pydata.org/pandas-docs/stable/user_guide/indexing.html#returning-a-view-versus-a-copy\n",
      "  df_dept.drop_duplicates(subset=None, keep='first', inplace=True)\n"
     ]
    },
    {
     "name": "stdout",
     "output_type": "stream",
     "text": [
      "For regression, 123 days Root Mean Squared Error: 114313.23\n",
      "For regression, 123 days Mean Absolute Percentage Error is: 305.23%\n",
      "For 123 days, KNN Accuracy of Model with Cross Validation is 77.47%\n",
      "For 123 days, Random Forest Accuracy of Model with Cross Validation is 71.60%\n",
      "For 123 days, Gradient Boosting Accuracy of Model with Cross Validation is 71.55%\n",
      "For 123 days, GaussianNB Accuracy of Model with Cross Validation is 73.28%\n"
     ]
    },
    {
     "name": "stderr",
     "output_type": "stream",
     "text": [
      "<ipython-input-26-a6f82740e750>:128: SettingWithCopyWarning: \n",
      "A value is trying to be set on a copy of a slice from a DataFrame\n",
      "\n",
      "See the caveats in the documentation: https://pandas.pydata.org/pandas-docs/stable/user_guide/indexing.html#returning-a-view-versus-a-copy\n",
      "  df_dept.drop_duplicates(subset=None, keep='first', inplace=True)\n"
     ]
    },
    {
     "name": "stdout",
     "output_type": "stream",
     "text": [
      "For regression, 124 days Root Mean Squared Error: 100541.78\n",
      "For regression, 124 days Mean Absolute Percentage Error is: 336.46%\n",
      "For 124 days, KNN Accuracy of Model with Cross Validation is 77.98%\n",
      "For 124 days, Random Forest Accuracy of Model with Cross Validation is 73.02%\n",
      "For 124 days, Gradient Boosting Accuracy of Model with Cross Validation is 71.77%\n",
      "For 124 days, GaussianNB Accuracy of Model with Cross Validation is 73.31%\n"
     ]
    },
    {
     "name": "stderr",
     "output_type": "stream",
     "text": [
      "<ipython-input-26-a6f82740e750>:128: SettingWithCopyWarning: \n",
      "A value is trying to be set on a copy of a slice from a DataFrame\n",
      "\n",
      "See the caveats in the documentation: https://pandas.pydata.org/pandas-docs/stable/user_guide/indexing.html#returning-a-view-versus-a-copy\n",
      "  df_dept.drop_duplicates(subset=None, keep='first', inplace=True)\n"
     ]
    },
    {
     "name": "stdout",
     "output_type": "stream",
     "text": [
      "For regression, 125 days Root Mean Squared Error: 136630.10\n",
      "For regression, 125 days Mean Absolute Percentage Error is: 409.43%\n",
      "For 125 days, KNN Accuracy of Model with Cross Validation is 78.02%\n",
      "For 125 days, Random Forest Accuracy of Model with Cross Validation is 76.86%\n",
      "For 125 days, Gradient Boosting Accuracy of Model with Cross Validation is 72.42%\n",
      "For 125 days, GaussianNB Accuracy of Model with Cross Validation is 73.43%\n"
     ]
    },
    {
     "name": "stderr",
     "output_type": "stream",
     "text": [
      "<ipython-input-26-a6f82740e750>:128: SettingWithCopyWarning: \n",
      "A value is trying to be set on a copy of a slice from a DataFrame\n",
      "\n",
      "See the caveats in the documentation: https://pandas.pydata.org/pandas-docs/stable/user_guide/indexing.html#returning-a-view-versus-a-copy\n",
      "  df_dept.drop_duplicates(subset=None, keep='first', inplace=True)\n"
     ]
    },
    {
     "name": "stdout",
     "output_type": "stream",
     "text": [
      "For regression, 126 days Root Mean Squared Error: 149902.38\n",
      "For regression, 126 days Mean Absolute Percentage Error is: 342.09%\n",
      "For 126 days, KNN Accuracy of Model with Cross Validation is 78.53%\n",
      "For 126 days, Random Forest Accuracy of Model with Cross Validation is 76.78%\n",
      "For 126 days, Gradient Boosting Accuracy of Model with Cross Validation is 73.40%\n",
      "For 126 days, GaussianNB Accuracy of Model with Cross Validation is 73.85%\n"
     ]
    },
    {
     "name": "stderr",
     "output_type": "stream",
     "text": [
      "<ipython-input-26-a6f82740e750>:128: SettingWithCopyWarning: \n",
      "A value is trying to be set on a copy of a slice from a DataFrame\n",
      "\n",
      "See the caveats in the documentation: https://pandas.pydata.org/pandas-docs/stable/user_guide/indexing.html#returning-a-view-versus-a-copy\n",
      "  df_dept.drop_duplicates(subset=None, keep='first', inplace=True)\n"
     ]
    },
    {
     "name": "stdout",
     "output_type": "stream",
     "text": [
      "For regression, 127 days Root Mean Squared Error: 106550.50\n",
      "For regression, 127 days Mean Absolute Percentage Error is: 378.40%\n",
      "For 127 days, KNN Accuracy of Model with Cross Validation is 78.36%\n",
      "For 127 days, Random Forest Accuracy of Model with Cross Validation is 66.96%\n",
      "For 127 days, Gradient Boosting Accuracy of Model with Cross Validation is 72.90%\n",
      "For 127 days, GaussianNB Accuracy of Model with Cross Validation is 73.75%\n"
     ]
    },
    {
     "name": "stderr",
     "output_type": "stream",
     "text": [
      "<ipython-input-26-a6f82740e750>:128: SettingWithCopyWarning: \n",
      "A value is trying to be set on a copy of a slice from a DataFrame\n",
      "\n",
      "See the caveats in the documentation: https://pandas.pydata.org/pandas-docs/stable/user_guide/indexing.html#returning-a-view-versus-a-copy\n",
      "  df_dept.drop_duplicates(subset=None, keep='first', inplace=True)\n"
     ]
    },
    {
     "name": "stdout",
     "output_type": "stream",
     "text": [
      "For regression, 128 days Root Mean Squared Error: 106427.75\n",
      "For regression, 128 days Mean Absolute Percentage Error is: 378.60%\n",
      "For 128 days, KNN Accuracy of Model with Cross Validation is 77.97%\n",
      "For 128 days, Random Forest Accuracy of Model with Cross Validation is 67.62%\n",
      "For 128 days, Gradient Boosting Accuracy of Model with Cross Validation is 73.11%\n",
      "For 128 days, GaussianNB Accuracy of Model with Cross Validation is 73.98%\n"
     ]
    },
    {
     "name": "stderr",
     "output_type": "stream",
     "text": [
      "<ipython-input-26-a6f82740e750>:128: SettingWithCopyWarning: \n",
      "A value is trying to be set on a copy of a slice from a DataFrame\n",
      "\n",
      "See the caveats in the documentation: https://pandas.pydata.org/pandas-docs/stable/user_guide/indexing.html#returning-a-view-versus-a-copy\n",
      "  df_dept.drop_duplicates(subset=None, keep='first', inplace=True)\n"
     ]
    },
    {
     "name": "stdout",
     "output_type": "stream",
     "text": [
      "For regression, 129 days Root Mean Squared Error: 126148.93\n",
      "For regression, 129 days Mean Absolute Percentage Error is: 386.73%\n",
      "For 129 days, KNN Accuracy of Model with Cross Validation is 78.29%\n",
      "For 129 days, Random Forest Accuracy of Model with Cross Validation is 71.50%\n",
      "For 129 days, Gradient Boosting Accuracy of Model with Cross Validation is 73.98%\n",
      "For 129 days, GaussianNB Accuracy of Model with Cross Validation is 74.14%\n"
     ]
    },
    {
     "name": "stderr",
     "output_type": "stream",
     "text": [
      "<ipython-input-26-a6f82740e750>:128: SettingWithCopyWarning: \n",
      "A value is trying to be set on a copy of a slice from a DataFrame\n",
      "\n",
      "See the caveats in the documentation: https://pandas.pydata.org/pandas-docs/stable/user_guide/indexing.html#returning-a-view-versus-a-copy\n",
      "  df_dept.drop_duplicates(subset=None, keep='first', inplace=True)\n"
     ]
    },
    {
     "name": "stdout",
     "output_type": "stream",
     "text": [
      "For regression, 130 days Root Mean Squared Error: 252157.85\n",
      "For regression, 130 days Mean Absolute Percentage Error is: 200.84%\n",
      "For 130 days, KNN Accuracy of Model with Cross Validation is 78.13%\n",
      "For 130 days, Random Forest Accuracy of Model with Cross Validation is 75.27%\n",
      "For 130 days, Gradient Boosting Accuracy of Model with Cross Validation is 74.08%\n",
      "For 130 days, GaussianNB Accuracy of Model with Cross Validation is 74.28%\n"
     ]
    },
    {
     "name": "stderr",
     "output_type": "stream",
     "text": [
      "<ipython-input-26-a6f82740e750>:128: SettingWithCopyWarning: \n",
      "A value is trying to be set on a copy of a slice from a DataFrame\n",
      "\n",
      "See the caveats in the documentation: https://pandas.pydata.org/pandas-docs/stable/user_guide/indexing.html#returning-a-view-versus-a-copy\n",
      "  df_dept.drop_duplicates(subset=None, keep='first', inplace=True)\n"
     ]
    },
    {
     "name": "stdout",
     "output_type": "stream",
     "text": [
      "For regression, 131 days Root Mean Squared Error: 234416.34\n",
      "For regression, 131 days Mean Absolute Percentage Error is: 232.62%\n",
      "For 131 days, KNN Accuracy of Model with Cross Validation is 78.49%\n",
      "For 131 days, Random Forest Accuracy of Model with Cross Validation is 76.11%\n",
      "For 131 days, Gradient Boosting Accuracy of Model with Cross Validation is 74.24%\n",
      "For 131 days, GaussianNB Accuracy of Model with Cross Validation is 74.55%\n"
     ]
    },
    {
     "name": "stderr",
     "output_type": "stream",
     "text": [
      "<ipython-input-26-a6f82740e750>:128: SettingWithCopyWarning: \n",
      "A value is trying to be set on a copy of a slice from a DataFrame\n",
      "\n",
      "See the caveats in the documentation: https://pandas.pydata.org/pandas-docs/stable/user_guide/indexing.html#returning-a-view-versus-a-copy\n",
      "  df_dept.drop_duplicates(subset=None, keep='first', inplace=True)\n"
     ]
    },
    {
     "name": "stdout",
     "output_type": "stream",
     "text": [
      "For regression, 132 days Root Mean Squared Error: 233089.13\n",
      "For regression, 132 days Mean Absolute Percentage Error is: 233.02%\n",
      "For 132 days, KNN Accuracy of Model with Cross Validation is 78.65%\n",
      "For 132 days, Random Forest Accuracy of Model with Cross Validation is 76.30%\n",
      "For 132 days, Gradient Boosting Accuracy of Model with Cross Validation is 75.05%\n",
      "For 132 days, GaussianNB Accuracy of Model with Cross Validation is 74.55%\n"
     ]
    },
    {
     "name": "stderr",
     "output_type": "stream",
     "text": [
      "<ipython-input-26-a6f82740e750>:128: SettingWithCopyWarning: \n",
      "A value is trying to be set on a copy of a slice from a DataFrame\n",
      "\n",
      "See the caveats in the documentation: https://pandas.pydata.org/pandas-docs/stable/user_guide/indexing.html#returning-a-view-versus-a-copy\n",
      "  df_dept.drop_duplicates(subset=None, keep='first', inplace=True)\n"
     ]
    },
    {
     "name": "stdout",
     "output_type": "stream",
     "text": [
      "For regression, 133 days Root Mean Squared Error: 231083.78\n",
      "For regression, 133 days Mean Absolute Percentage Error is: 238.36%\n",
      "For 133 days, KNN Accuracy of Model with Cross Validation is 78.54%\n",
      "For 133 days, Random Forest Accuracy of Model with Cross Validation is 74.65%\n",
      "For 133 days, Gradient Boosting Accuracy of Model with Cross Validation is 75.23%\n",
      "For 133 days, GaussianNB Accuracy of Model with Cross Validation is 74.67%\n"
     ]
    },
    {
     "name": "stderr",
     "output_type": "stream",
     "text": [
      "<ipython-input-26-a6f82740e750>:128: SettingWithCopyWarning: \n",
      "A value is trying to be set on a copy of a slice from a DataFrame\n",
      "\n",
      "See the caveats in the documentation: https://pandas.pydata.org/pandas-docs/stable/user_guide/indexing.html#returning-a-view-versus-a-copy\n",
      "  df_dept.drop_duplicates(subset=None, keep='first', inplace=True)\n"
     ]
    },
    {
     "name": "stdout",
     "output_type": "stream",
     "text": [
      "For regression, 134 days Root Mean Squared Error: 241515.43\n",
      "For regression, 134 days Mean Absolute Percentage Error is: 219.69%\n",
      "For 134 days, KNN Accuracy of Model with Cross Validation is 78.97%\n",
      "For 134 days, Random Forest Accuracy of Model with Cross Validation is 74.45%\n",
      "For 134 days, Gradient Boosting Accuracy of Model with Cross Validation is 75.30%\n",
      "For 134 days, GaussianNB Accuracy of Model with Cross Validation is 74.86%\n"
     ]
    },
    {
     "name": "stderr",
     "output_type": "stream",
     "text": [
      "<ipython-input-26-a6f82740e750>:128: SettingWithCopyWarning: \n",
      "A value is trying to be set on a copy of a slice from a DataFrame\n",
      "\n",
      "See the caveats in the documentation: https://pandas.pydata.org/pandas-docs/stable/user_guide/indexing.html#returning-a-view-versus-a-copy\n",
      "  df_dept.drop_duplicates(subset=None, keep='first', inplace=True)\n"
     ]
    },
    {
     "name": "stdout",
     "output_type": "stream",
     "text": [
      "For regression, 135 days Root Mean Squared Error: 243908.31\n",
      "For regression, 135 days Mean Absolute Percentage Error is: 239.99%\n",
      "For 135 days, KNN Accuracy of Model with Cross Validation is 78.48%\n",
      "For 135 days, Random Forest Accuracy of Model with Cross Validation is 73.59%\n",
      "For 135 days, Gradient Boosting Accuracy of Model with Cross Validation is 75.43%\n",
      "For 135 days, GaussianNB Accuracy of Model with Cross Validation is 75.24%\n"
     ]
    },
    {
     "name": "stderr",
     "output_type": "stream",
     "text": [
      "<ipython-input-26-a6f82740e750>:128: SettingWithCopyWarning: \n",
      "A value is trying to be set on a copy of a slice from a DataFrame\n",
      "\n",
      "See the caveats in the documentation: https://pandas.pydata.org/pandas-docs/stable/user_guide/indexing.html#returning-a-view-versus-a-copy\n",
      "  df_dept.drop_duplicates(subset=None, keep='first', inplace=True)\n"
     ]
    },
    {
     "name": "stdout",
     "output_type": "stream",
     "text": [
      "For regression, 136 days Root Mean Squared Error: 240996.24\n",
      "For regression, 136 days Mean Absolute Percentage Error is: 197.97%\n",
      "For 136 days, KNN Accuracy of Model with Cross Validation is 78.61%\n",
      "For 136 days, Random Forest Accuracy of Model with Cross Validation is 74.60%\n",
      "For 136 days, Gradient Boosting Accuracy of Model with Cross Validation is 75.47%\n",
      "For 136 days, GaussianNB Accuracy of Model with Cross Validation is 75.20%\n"
     ]
    },
    {
     "name": "stderr",
     "output_type": "stream",
     "text": [
      "<ipython-input-26-a6f82740e750>:128: SettingWithCopyWarning: \n",
      "A value is trying to be set on a copy of a slice from a DataFrame\n",
      "\n",
      "See the caveats in the documentation: https://pandas.pydata.org/pandas-docs/stable/user_guide/indexing.html#returning-a-view-versus-a-copy\n",
      "  df_dept.drop_duplicates(subset=None, keep='first', inplace=True)\n"
     ]
    },
    {
     "name": "stdout",
     "output_type": "stream",
     "text": [
      "For regression, 137 days Root Mean Squared Error: 240486.75\n",
      "For regression, 137 days Mean Absolute Percentage Error is: 200.01%\n",
      "For 137 days, KNN Accuracy of Model with Cross Validation is 78.37%\n",
      "For 137 days, Random Forest Accuracy of Model with Cross Validation is 75.08%\n",
      "For 137 days, Gradient Boosting Accuracy of Model with Cross Validation is 76.08%\n",
      "For 137 days, GaussianNB Accuracy of Model with Cross Validation is 75.44%\n"
     ]
    },
    {
     "name": "stderr",
     "output_type": "stream",
     "text": [
      "<ipython-input-26-a6f82740e750>:128: SettingWithCopyWarning: \n",
      "A value is trying to be set on a copy of a slice from a DataFrame\n",
      "\n",
      "See the caveats in the documentation: https://pandas.pydata.org/pandas-docs/stable/user_guide/indexing.html#returning-a-view-versus-a-copy\n",
      "  df_dept.drop_duplicates(subset=None, keep='first', inplace=True)\n"
     ]
    },
    {
     "name": "stdout",
     "output_type": "stream",
     "text": [
      "For regression, 138 days Root Mean Squared Error: 244603.08\n",
      "For regression, 138 days Mean Absolute Percentage Error is: 205.79%\n",
      "For 138 days, KNN Accuracy of Model with Cross Validation is 78.57%\n",
      "For 138 days, Random Forest Accuracy of Model with Cross Validation is 75.51%\n",
      "For 138 days, Gradient Boosting Accuracy of Model with Cross Validation is 75.96%\n",
      "For 138 days, GaussianNB Accuracy of Model with Cross Validation is 75.24%\n"
     ]
    },
    {
     "name": "stderr",
     "output_type": "stream",
     "text": [
      "<ipython-input-26-a6f82740e750>:128: SettingWithCopyWarning: \n",
      "A value is trying to be set on a copy of a slice from a DataFrame\n",
      "\n",
      "See the caveats in the documentation: https://pandas.pydata.org/pandas-docs/stable/user_guide/indexing.html#returning-a-view-versus-a-copy\n",
      "  df_dept.drop_duplicates(subset=None, keep='first', inplace=True)\n"
     ]
    },
    {
     "name": "stdout",
     "output_type": "stream",
     "text": [
      "For regression, 139 days Root Mean Squared Error: 234778.29\n",
      "For regression, 139 days Mean Absolute Percentage Error is: 224.77%\n",
      "For 139 days, KNN Accuracy of Model with Cross Validation is 78.66%\n",
      "For 139 days, Random Forest Accuracy of Model with Cross Validation is 76.44%\n",
      "For 139 days, Gradient Boosting Accuracy of Model with Cross Validation is 76.05%\n",
      "For 139 days, GaussianNB Accuracy of Model with Cross Validation is 75.56%\n"
     ]
    },
    {
     "name": "stderr",
     "output_type": "stream",
     "text": [
      "<ipython-input-26-a6f82740e750>:128: SettingWithCopyWarning: \n",
      "A value is trying to be set on a copy of a slice from a DataFrame\n",
      "\n",
      "See the caveats in the documentation: https://pandas.pydata.org/pandas-docs/stable/user_guide/indexing.html#returning-a-view-versus-a-copy\n",
      "  df_dept.drop_duplicates(subset=None, keep='first', inplace=True)\n"
     ]
    },
    {
     "name": "stdout",
     "output_type": "stream",
     "text": [
      "For regression, 140 days Root Mean Squared Error: 234059.56\n",
      "For regression, 140 days Mean Absolute Percentage Error is: 201.07%\n",
      "For 140 days, KNN Accuracy of Model with Cross Validation is 79.52%\n",
      "For 140 days, Random Forest Accuracy of Model with Cross Validation is 76.80%\n",
      "For 140 days, Gradient Boosting Accuracy of Model with Cross Validation is 75.80%\n",
      "For 140 days, GaussianNB Accuracy of Model with Cross Validation is 75.70%\n"
     ]
    },
    {
     "name": "stderr",
     "output_type": "stream",
     "text": [
      "<ipython-input-26-a6f82740e750>:128: SettingWithCopyWarning: \n",
      "A value is trying to be set on a copy of a slice from a DataFrame\n",
      "\n",
      "See the caveats in the documentation: https://pandas.pydata.org/pandas-docs/stable/user_guide/indexing.html#returning-a-view-versus-a-copy\n",
      "  df_dept.drop_duplicates(subset=None, keep='first', inplace=True)\n"
     ]
    },
    {
     "name": "stdout",
     "output_type": "stream",
     "text": [
      "For regression, 141 days Root Mean Squared Error: 166964.09\n",
      "For regression, 141 days Mean Absolute Percentage Error is: 308.77%\n",
      "For 141 days, KNN Accuracy of Model with Cross Validation is 78.60%\n",
      "For 141 days, Random Forest Accuracy of Model with Cross Validation is 76.87%\n",
      "For 141 days, Gradient Boosting Accuracy of Model with Cross Validation is 76.29%\n",
      "For 141 days, GaussianNB Accuracy of Model with Cross Validation is 75.48%\n"
     ]
    },
    {
     "name": "stderr",
     "output_type": "stream",
     "text": [
      "<ipython-input-26-a6f82740e750>:128: SettingWithCopyWarning: \n",
      "A value is trying to be set on a copy of a slice from a DataFrame\n",
      "\n",
      "See the caveats in the documentation: https://pandas.pydata.org/pandas-docs/stable/user_guide/indexing.html#returning-a-view-versus-a-copy\n",
      "  df_dept.drop_duplicates(subset=None, keep='first', inplace=True)\n"
     ]
    },
    {
     "name": "stdout",
     "output_type": "stream",
     "text": [
      "For regression, 142 days Root Mean Squared Error: 162256.77\n",
      "For regression, 142 days Mean Absolute Percentage Error is: 329.28%\n",
      "For 142 days, KNN Accuracy of Model with Cross Validation is 79.43%\n",
      "For 142 days, Random Forest Accuracy of Model with Cross Validation is 72.69%\n",
      "For 142 days, Gradient Boosting Accuracy of Model with Cross Validation is 76.59%\n",
      "For 142 days, GaussianNB Accuracy of Model with Cross Validation is 75.50%\n"
     ]
    },
    {
     "name": "stderr",
     "output_type": "stream",
     "text": [
      "<ipython-input-26-a6f82740e750>:128: SettingWithCopyWarning: \n",
      "A value is trying to be set on a copy of a slice from a DataFrame\n",
      "\n",
      "See the caveats in the documentation: https://pandas.pydata.org/pandas-docs/stable/user_guide/indexing.html#returning-a-view-versus-a-copy\n",
      "  df_dept.drop_duplicates(subset=None, keep='first', inplace=True)\n"
     ]
    },
    {
     "name": "stdout",
     "output_type": "stream",
     "text": [
      "For regression, 143 days Root Mean Squared Error: 164771.79\n",
      "For regression, 143 days Mean Absolute Percentage Error is: 368.74%\n",
      "For 143 days, KNN Accuracy of Model with Cross Validation is 79.09%\n",
      "For 143 days, Random Forest Accuracy of Model with Cross Validation is 73.25%\n",
      "For 143 days, Gradient Boosting Accuracy of Model with Cross Validation is 76.41%\n",
      "For 143 days, GaussianNB Accuracy of Model with Cross Validation is 75.65%\n"
     ]
    },
    {
     "name": "stderr",
     "output_type": "stream",
     "text": [
      "<ipython-input-26-a6f82740e750>:128: SettingWithCopyWarning: \n",
      "A value is trying to be set on a copy of a slice from a DataFrame\n",
      "\n",
      "See the caveats in the documentation: https://pandas.pydata.org/pandas-docs/stable/user_guide/indexing.html#returning-a-view-versus-a-copy\n",
      "  df_dept.drop_duplicates(subset=None, keep='first', inplace=True)\n"
     ]
    },
    {
     "name": "stdout",
     "output_type": "stream",
     "text": [
      "For regression, 144 days Root Mean Squared Error: 133837.43\n",
      "For regression, 144 days Mean Absolute Percentage Error is: 403.49%\n",
      "For 144 days, KNN Accuracy of Model with Cross Validation is 79.23%\n",
      "For 144 days, Random Forest Accuracy of Model with Cross Validation is 73.22%\n",
      "For 144 days, Gradient Boosting Accuracy of Model with Cross Validation is 76.78%\n",
      "For 144 days, GaussianNB Accuracy of Model with Cross Validation is 75.71%\n"
     ]
    },
    {
     "name": "stderr",
     "output_type": "stream",
     "text": [
      "<ipython-input-26-a6f82740e750>:128: SettingWithCopyWarning: \n",
      "A value is trying to be set on a copy of a slice from a DataFrame\n",
      "\n",
      "See the caveats in the documentation: https://pandas.pydata.org/pandas-docs/stable/user_guide/indexing.html#returning-a-view-versus-a-copy\n",
      "  df_dept.drop_duplicates(subset=None, keep='first', inplace=True)\n"
     ]
    },
    {
     "name": "stdout",
     "output_type": "stream",
     "text": [
      "For regression, 145 days Root Mean Squared Error: 155648.28\n",
      "For regression, 145 days Mean Absolute Percentage Error is: 384.07%\n",
      "For 145 days, KNN Accuracy of Model with Cross Validation is 79.68%\n",
      "For 145 days, Random Forest Accuracy of Model with Cross Validation is 73.49%\n",
      "For 145 days, Gradient Boosting Accuracy of Model with Cross Validation is 76.43%\n",
      "For 145 days, GaussianNB Accuracy of Model with Cross Validation is 75.66%\n"
     ]
    },
    {
     "name": "stderr",
     "output_type": "stream",
     "text": [
      "<ipython-input-26-a6f82740e750>:128: SettingWithCopyWarning: \n",
      "A value is trying to be set on a copy of a slice from a DataFrame\n",
      "\n",
      "See the caveats in the documentation: https://pandas.pydata.org/pandas-docs/stable/user_guide/indexing.html#returning-a-view-versus-a-copy\n",
      "  df_dept.drop_duplicates(subset=None, keep='first', inplace=True)\n"
     ]
    },
    {
     "name": "stdout",
     "output_type": "stream",
     "text": [
      "For regression, 146 days Root Mean Squared Error: 147153.31\n",
      "For regression, 146 days Mean Absolute Percentage Error is: 387.76%\n",
      "For 146 days, KNN Accuracy of Model with Cross Validation is 79.75%\n",
      "For 146 days, Random Forest Accuracy of Model with Cross Validation is 77.39%\n",
      "For 146 days, Gradient Boosting Accuracy of Model with Cross Validation is 76.70%\n",
      "For 146 days, GaussianNB Accuracy of Model with Cross Validation is 75.81%\n"
     ]
    },
    {
     "name": "stderr",
     "output_type": "stream",
     "text": [
      "<ipython-input-26-a6f82740e750>:128: SettingWithCopyWarning: \n",
      "A value is trying to be set on a copy of a slice from a DataFrame\n",
      "\n",
      "See the caveats in the documentation: https://pandas.pydata.org/pandas-docs/stable/user_guide/indexing.html#returning-a-view-versus-a-copy\n",
      "  df_dept.drop_duplicates(subset=None, keep='first', inplace=True)\n"
     ]
    },
    {
     "name": "stdout",
     "output_type": "stream",
     "text": [
      "For regression, 147 days Root Mean Squared Error: 166260.83\n",
      "For regression, 147 days Mean Absolute Percentage Error is: 328.01%\n",
      "For 147 days, KNN Accuracy of Model with Cross Validation is 80.12%\n",
      "For 147 days, Random Forest Accuracy of Model with Cross Validation is 75.64%\n",
      "For 147 days, Gradient Boosting Accuracy of Model with Cross Validation is 76.70%\n",
      "For 147 days, GaussianNB Accuracy of Model with Cross Validation is 76.09%\n"
     ]
    },
    {
     "name": "stderr",
     "output_type": "stream",
     "text": [
      "<ipython-input-26-a6f82740e750>:128: SettingWithCopyWarning: \n",
      "A value is trying to be set on a copy of a slice from a DataFrame\n",
      "\n",
      "See the caveats in the documentation: https://pandas.pydata.org/pandas-docs/stable/user_guide/indexing.html#returning-a-view-versus-a-copy\n",
      "  df_dept.drop_duplicates(subset=None, keep='first', inplace=True)\n"
     ]
    },
    {
     "name": "stdout",
     "output_type": "stream",
     "text": [
      "For regression, 148 days Root Mean Squared Error: 152916.19\n",
      "For regression, 148 days Mean Absolute Percentage Error is: 322.90%\n",
      "For 148 days, KNN Accuracy of Model with Cross Validation is 79.90%\n",
      "For 148 days, Random Forest Accuracy of Model with Cross Validation is 80.74%\n",
      "For 148 days, Gradient Boosting Accuracy of Model with Cross Validation is 76.13%\n",
      "For 148 days, GaussianNB Accuracy of Model with Cross Validation is 76.03%\n"
     ]
    },
    {
     "name": "stderr",
     "output_type": "stream",
     "text": [
      "<ipython-input-26-a6f82740e750>:128: SettingWithCopyWarning: \n",
      "A value is trying to be set on a copy of a slice from a DataFrame\n",
      "\n",
      "See the caveats in the documentation: https://pandas.pydata.org/pandas-docs/stable/user_guide/indexing.html#returning-a-view-versus-a-copy\n",
      "  df_dept.drop_duplicates(subset=None, keep='first', inplace=True)\n"
     ]
    },
    {
     "name": "stdout",
     "output_type": "stream",
     "text": [
      "For regression, 149 days Root Mean Squared Error: 114480.87\n",
      "For regression, 149 days Mean Absolute Percentage Error is: 370.65%\n",
      "For 149 days, KNN Accuracy of Model with Cross Validation is 80.45%\n",
      "For 149 days, Random Forest Accuracy of Model with Cross Validation is 83.72%\n",
      "For 149 days, Gradient Boosting Accuracy of Model with Cross Validation is 76.37%\n",
      "For 149 days, GaussianNB Accuracy of Model with Cross Validation is 76.09%\n"
     ]
    },
    {
     "name": "stderr",
     "output_type": "stream",
     "text": [
      "<ipython-input-26-a6f82740e750>:128: SettingWithCopyWarning: \n",
      "A value is trying to be set on a copy of a slice from a DataFrame\n",
      "\n",
      "See the caveats in the documentation: https://pandas.pydata.org/pandas-docs/stable/user_guide/indexing.html#returning-a-view-versus-a-copy\n",
      "  df_dept.drop_duplicates(subset=None, keep='first', inplace=True)\n"
     ]
    },
    {
     "name": "stdout",
     "output_type": "stream",
     "text": [
      "For regression, 150 days Root Mean Squared Error: 140249.84\n",
      "For regression, 150 days Mean Absolute Percentage Error is: 363.96%\n",
      "For 150 days, KNN Accuracy of Model with Cross Validation is 81.06%\n",
      "For 150 days, Random Forest Accuracy of Model with Cross Validation is 82.04%\n",
      "For 150 days, Gradient Boosting Accuracy of Model with Cross Validation is 76.20%\n",
      "For 150 days, GaussianNB Accuracy of Model with Cross Validation is 76.34%\n"
     ]
    }
   ],
   "source": [
    "# Checking results from 30 days to 150 days on daily basis.\n",
    "for TP in range(30,151,20):\n",
    "    accuracy(TP,df)"
   ]
  }
 ],
 "metadata": {
  "kernelspec": {
   "display_name": "Python 3",
   "language": "python",
   "name": "python3"
  },
  "language_info": {
   "codemirror_mode": {
    "name": "ipython",
    "version": 3
   },
   "file_extension": ".py",
   "mimetype": "text/x-python",
   "name": "python",
   "nbconvert_exporter": "python",
   "pygments_lexer": "ipython3",
   "version": "3.8.3"
  }
 },
 "nbformat": 4,
 "nbformat_minor": 4
}
